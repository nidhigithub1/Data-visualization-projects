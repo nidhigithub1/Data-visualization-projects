{
 "cells": [
  {
   "cell_type": "code",
   "execution_count": 1,
   "id": "8769825a",
   "metadata": {},
   "outputs": [],
   "source": [
    "import pandas as pd\n",
    "import numpy as np\n",
    "import seaborn as sns\n",
    "import matplotlib.pyplot as plt"
   ]
  },
  {
   "cell_type": "code",
   "execution_count": 2,
   "id": "4d7b5ab3",
   "metadata": {},
   "outputs": [],
   "source": [
    "wal=pd.read_csv(r\"D:\\Scaler projects\\walmart\\walmart.csv\")"
   ]
  },
  {
   "cell_type": "code",
   "execution_count": 3,
   "id": "bf703a7e",
   "metadata": {},
   "outputs": [
    {
     "data": {
      "text/html": [
       "<div>\n",
       "<style scoped>\n",
       "    .dataframe tbody tr th:only-of-type {\n",
       "        vertical-align: middle;\n",
       "    }\n",
       "\n",
       "    .dataframe tbody tr th {\n",
       "        vertical-align: top;\n",
       "    }\n",
       "\n",
       "    .dataframe thead th {\n",
       "        text-align: right;\n",
       "    }\n",
       "</style>\n",
       "<table border=\"1\" class=\"dataframe\">\n",
       "  <thead>\n",
       "    <tr style=\"text-align: right;\">\n",
       "      <th></th>\n",
       "      <th>User_ID</th>\n",
       "      <th>Product_ID</th>\n",
       "      <th>Gender</th>\n",
       "      <th>Age</th>\n",
       "      <th>Occupation</th>\n",
       "      <th>City_Category</th>\n",
       "      <th>Stay_In_Current_City_Years</th>\n",
       "      <th>Marital_Status</th>\n",
       "      <th>Product_Category</th>\n",
       "      <th>Purchase</th>\n",
       "    </tr>\n",
       "  </thead>\n",
       "  <tbody>\n",
       "    <tr>\n",
       "      <th>0</th>\n",
       "      <td>1000001</td>\n",
       "      <td>P00069042</td>\n",
       "      <td>F</td>\n",
       "      <td>0-17</td>\n",
       "      <td>10</td>\n",
       "      <td>A</td>\n",
       "      <td>2</td>\n",
       "      <td>0</td>\n",
       "      <td>3</td>\n",
       "      <td>8370</td>\n",
       "    </tr>\n",
       "    <tr>\n",
       "      <th>1</th>\n",
       "      <td>1000001</td>\n",
       "      <td>P00248942</td>\n",
       "      <td>F</td>\n",
       "      <td>0-17</td>\n",
       "      <td>10</td>\n",
       "      <td>A</td>\n",
       "      <td>2</td>\n",
       "      <td>0</td>\n",
       "      <td>1</td>\n",
       "      <td>15200</td>\n",
       "    </tr>\n",
       "    <tr>\n",
       "      <th>2</th>\n",
       "      <td>1000001</td>\n",
       "      <td>P00087842</td>\n",
       "      <td>F</td>\n",
       "      <td>0-17</td>\n",
       "      <td>10</td>\n",
       "      <td>A</td>\n",
       "      <td>2</td>\n",
       "      <td>0</td>\n",
       "      <td>12</td>\n",
       "      <td>1422</td>\n",
       "    </tr>\n",
       "    <tr>\n",
       "      <th>3</th>\n",
       "      <td>1000001</td>\n",
       "      <td>P00085442</td>\n",
       "      <td>F</td>\n",
       "      <td>0-17</td>\n",
       "      <td>10</td>\n",
       "      <td>A</td>\n",
       "      <td>2</td>\n",
       "      <td>0</td>\n",
       "      <td>12</td>\n",
       "      <td>1057</td>\n",
       "    </tr>\n",
       "    <tr>\n",
       "      <th>4</th>\n",
       "      <td>1000002</td>\n",
       "      <td>P00285442</td>\n",
       "      <td>M</td>\n",
       "      <td>55+</td>\n",
       "      <td>16</td>\n",
       "      <td>C</td>\n",
       "      <td>4+</td>\n",
       "      <td>0</td>\n",
       "      <td>8</td>\n",
       "      <td>7969</td>\n",
       "    </tr>\n",
       "    <tr>\n",
       "      <th>...</th>\n",
       "      <td>...</td>\n",
       "      <td>...</td>\n",
       "      <td>...</td>\n",
       "      <td>...</td>\n",
       "      <td>...</td>\n",
       "      <td>...</td>\n",
       "      <td>...</td>\n",
       "      <td>...</td>\n",
       "      <td>...</td>\n",
       "      <td>...</td>\n",
       "    </tr>\n",
       "    <tr>\n",
       "      <th>550063</th>\n",
       "      <td>1006033</td>\n",
       "      <td>P00372445</td>\n",
       "      <td>M</td>\n",
       "      <td>51-55</td>\n",
       "      <td>13</td>\n",
       "      <td>B</td>\n",
       "      <td>1</td>\n",
       "      <td>1</td>\n",
       "      <td>20</td>\n",
       "      <td>368</td>\n",
       "    </tr>\n",
       "    <tr>\n",
       "      <th>550064</th>\n",
       "      <td>1006035</td>\n",
       "      <td>P00375436</td>\n",
       "      <td>F</td>\n",
       "      <td>26-35</td>\n",
       "      <td>1</td>\n",
       "      <td>C</td>\n",
       "      <td>3</td>\n",
       "      <td>0</td>\n",
       "      <td>20</td>\n",
       "      <td>371</td>\n",
       "    </tr>\n",
       "    <tr>\n",
       "      <th>550065</th>\n",
       "      <td>1006036</td>\n",
       "      <td>P00375436</td>\n",
       "      <td>F</td>\n",
       "      <td>26-35</td>\n",
       "      <td>15</td>\n",
       "      <td>B</td>\n",
       "      <td>4+</td>\n",
       "      <td>1</td>\n",
       "      <td>20</td>\n",
       "      <td>137</td>\n",
       "    </tr>\n",
       "    <tr>\n",
       "      <th>550066</th>\n",
       "      <td>1006038</td>\n",
       "      <td>P00375436</td>\n",
       "      <td>F</td>\n",
       "      <td>55+</td>\n",
       "      <td>1</td>\n",
       "      <td>C</td>\n",
       "      <td>2</td>\n",
       "      <td>0</td>\n",
       "      <td>20</td>\n",
       "      <td>365</td>\n",
       "    </tr>\n",
       "    <tr>\n",
       "      <th>550067</th>\n",
       "      <td>1006039</td>\n",
       "      <td>P00371644</td>\n",
       "      <td>F</td>\n",
       "      <td>46-50</td>\n",
       "      <td>0</td>\n",
       "      <td>B</td>\n",
       "      <td>4+</td>\n",
       "      <td>1</td>\n",
       "      <td>20</td>\n",
       "      <td>490</td>\n",
       "    </tr>\n",
       "  </tbody>\n",
       "</table>\n",
       "<p>550068 rows × 10 columns</p>\n",
       "</div>"
      ],
      "text/plain": [
       "        User_ID Product_ID Gender    Age  Occupation City_Category  \\\n",
       "0       1000001  P00069042      F   0-17          10             A   \n",
       "1       1000001  P00248942      F   0-17          10             A   \n",
       "2       1000001  P00087842      F   0-17          10             A   \n",
       "3       1000001  P00085442      F   0-17          10             A   \n",
       "4       1000002  P00285442      M    55+          16             C   \n",
       "...         ...        ...    ...    ...         ...           ...   \n",
       "550063  1006033  P00372445      M  51-55          13             B   \n",
       "550064  1006035  P00375436      F  26-35           1             C   \n",
       "550065  1006036  P00375436      F  26-35          15             B   \n",
       "550066  1006038  P00375436      F    55+           1             C   \n",
       "550067  1006039  P00371644      F  46-50           0             B   \n",
       "\n",
       "       Stay_In_Current_City_Years  Marital_Status  Product_Category  Purchase  \n",
       "0                               2               0                 3      8370  \n",
       "1                               2               0                 1     15200  \n",
       "2                               2               0                12      1422  \n",
       "3                               2               0                12      1057  \n",
       "4                              4+               0                 8      7969  \n",
       "...                           ...             ...               ...       ...  \n",
       "550063                          1               1                20       368  \n",
       "550064                          3               0                20       371  \n",
       "550065                         4+               1                20       137  \n",
       "550066                          2               0                20       365  \n",
       "550067                         4+               1                20       490  \n",
       "\n",
       "[550068 rows x 10 columns]"
      ]
     },
     "execution_count": 3,
     "metadata": {},
     "output_type": "execute_result"
    }
   ],
   "source": [
    "wal"
   ]
  },
  {
   "cell_type": "code",
   "execution_count": 4,
   "id": "dc34c83b",
   "metadata": {},
   "outputs": [
    {
     "data": {
      "text/plain": [
       "(550068, 10)"
      ]
     },
     "execution_count": 4,
     "metadata": {},
     "output_type": "execute_result"
    }
   ],
   "source": [
    "wal.shape"
   ]
  },
  {
   "cell_type": "code",
   "execution_count": 5,
   "id": "94ba61c4",
   "metadata": {},
   "outputs": [
    {
     "data": {
      "text/html": [
       "<div>\n",
       "<style scoped>\n",
       "    .dataframe tbody tr th:only-of-type {\n",
       "        vertical-align: middle;\n",
       "    }\n",
       "\n",
       "    .dataframe tbody tr th {\n",
       "        vertical-align: top;\n",
       "    }\n",
       "\n",
       "    .dataframe thead th {\n",
       "        text-align: right;\n",
       "    }\n",
       "</style>\n",
       "<table border=\"1\" class=\"dataframe\">\n",
       "  <thead>\n",
       "    <tr style=\"text-align: right;\">\n",
       "      <th></th>\n",
       "      <th>User_ID</th>\n",
       "      <th>Occupation</th>\n",
       "      <th>Marital_Status</th>\n",
       "      <th>Product_Category</th>\n",
       "      <th>Purchase</th>\n",
       "    </tr>\n",
       "  </thead>\n",
       "  <tbody>\n",
       "    <tr>\n",
       "      <th>count</th>\n",
       "      <td>5.500680e+05</td>\n",
       "      <td>550068.000000</td>\n",
       "      <td>550068.000000</td>\n",
       "      <td>550068.000000</td>\n",
       "      <td>550068.000000</td>\n",
       "    </tr>\n",
       "    <tr>\n",
       "      <th>mean</th>\n",
       "      <td>1.003029e+06</td>\n",
       "      <td>8.076707</td>\n",
       "      <td>0.409653</td>\n",
       "      <td>5.404270</td>\n",
       "      <td>9263.968713</td>\n",
       "    </tr>\n",
       "    <tr>\n",
       "      <th>std</th>\n",
       "      <td>1.727592e+03</td>\n",
       "      <td>6.522660</td>\n",
       "      <td>0.491770</td>\n",
       "      <td>3.936211</td>\n",
       "      <td>5023.065394</td>\n",
       "    </tr>\n",
       "    <tr>\n",
       "      <th>min</th>\n",
       "      <td>1.000001e+06</td>\n",
       "      <td>0.000000</td>\n",
       "      <td>0.000000</td>\n",
       "      <td>1.000000</td>\n",
       "      <td>12.000000</td>\n",
       "    </tr>\n",
       "    <tr>\n",
       "      <th>25%</th>\n",
       "      <td>1.001516e+06</td>\n",
       "      <td>2.000000</td>\n",
       "      <td>0.000000</td>\n",
       "      <td>1.000000</td>\n",
       "      <td>5823.000000</td>\n",
       "    </tr>\n",
       "    <tr>\n",
       "      <th>50%</th>\n",
       "      <td>1.003077e+06</td>\n",
       "      <td>7.000000</td>\n",
       "      <td>0.000000</td>\n",
       "      <td>5.000000</td>\n",
       "      <td>8047.000000</td>\n",
       "    </tr>\n",
       "    <tr>\n",
       "      <th>75%</th>\n",
       "      <td>1.004478e+06</td>\n",
       "      <td>14.000000</td>\n",
       "      <td>1.000000</td>\n",
       "      <td>8.000000</td>\n",
       "      <td>12054.000000</td>\n",
       "    </tr>\n",
       "    <tr>\n",
       "      <th>max</th>\n",
       "      <td>1.006040e+06</td>\n",
       "      <td>20.000000</td>\n",
       "      <td>1.000000</td>\n",
       "      <td>20.000000</td>\n",
       "      <td>23961.000000</td>\n",
       "    </tr>\n",
       "  </tbody>\n",
       "</table>\n",
       "</div>"
      ],
      "text/plain": [
       "            User_ID     Occupation  Marital_Status  Product_Category  \\\n",
       "count  5.500680e+05  550068.000000   550068.000000     550068.000000   \n",
       "mean   1.003029e+06       8.076707        0.409653          5.404270   \n",
       "std    1.727592e+03       6.522660        0.491770          3.936211   \n",
       "min    1.000001e+06       0.000000        0.000000          1.000000   \n",
       "25%    1.001516e+06       2.000000        0.000000          1.000000   \n",
       "50%    1.003077e+06       7.000000        0.000000          5.000000   \n",
       "75%    1.004478e+06      14.000000        1.000000          8.000000   \n",
       "max    1.006040e+06      20.000000        1.000000         20.000000   \n",
       "\n",
       "            Purchase  \n",
       "count  550068.000000  \n",
       "mean     9263.968713  \n",
       "std      5023.065394  \n",
       "min        12.000000  \n",
       "25%      5823.000000  \n",
       "50%      8047.000000  \n",
       "75%     12054.000000  \n",
       "max     23961.000000  "
      ]
     },
     "execution_count": 5,
     "metadata": {},
     "output_type": "execute_result"
    }
   ],
   "source": [
    "wal.describe()"
   ]
  },
  {
   "cell_type": "code",
   "execution_count": 6,
   "id": "7a0b12fe",
   "metadata": {},
   "outputs": [
    {
     "name": "stdout",
     "output_type": "stream",
     "text": [
      "<class 'pandas.core.frame.DataFrame'>\n",
      "RangeIndex: 550068 entries, 0 to 550067\n",
      "Data columns (total 10 columns):\n",
      " #   Column                      Non-Null Count   Dtype \n",
      "---  ------                      --------------   ----- \n",
      " 0   User_ID                     550068 non-null  int64 \n",
      " 1   Product_ID                  550068 non-null  object\n",
      " 2   Gender                      550068 non-null  object\n",
      " 3   Age                         550068 non-null  object\n",
      " 4   Occupation                  550068 non-null  int64 \n",
      " 5   City_Category               550068 non-null  object\n",
      " 6   Stay_In_Current_City_Years  550068 non-null  object\n",
      " 7   Marital_Status              550068 non-null  int64 \n",
      " 8   Product_Category            550068 non-null  int64 \n",
      " 9   Purchase                    550068 non-null  int64 \n",
      "dtypes: int64(5), object(5)\n",
      "memory usage: 42.0+ MB\n"
     ]
    }
   ],
   "source": [
    "wal.info()"
   ]
  },
  {
   "cell_type": "code",
   "execution_count": 7,
   "id": "8f4eb79d",
   "metadata": {},
   "outputs": [
    {
     "data": {
      "text/plain": [
       "User_ID                       0\n",
       "Product_ID                    0\n",
       "Gender                        0\n",
       "Age                           0\n",
       "Occupation                    0\n",
       "City_Category                 0\n",
       "Stay_In_Current_City_Years    0\n",
       "Marital_Status                0\n",
       "Product_Category              0\n",
       "Purchase                      0\n",
       "dtype: int64"
      ]
     },
     "execution_count": 7,
     "metadata": {},
     "output_type": "execute_result"
    }
   ],
   "source": [
    "wal.isnull().sum()"
   ]
  },
  {
   "cell_type": "code",
   "execution_count": 9,
   "id": "6ed58f0b",
   "metadata": {},
   "outputs": [
    {
     "data": {
      "text/plain": [
       "4     72308\n",
       "0     69638\n",
       "7     59133\n",
       "1     47426\n",
       "17    40043\n",
       "20    33562\n",
       "12    31179\n",
       "14    27309\n",
       "2     26588\n",
       "16    25371\n",
       "6     20355\n",
       "3     17650\n",
       "10    12930\n",
       "5     12177\n",
       "15    12165\n",
       "11    11586\n",
       "19     8461\n",
       "13     7728\n",
       "18     6622\n",
       "9      6291\n",
       "8      1546\n",
       "Name: Occupation, dtype: int64"
      ]
     },
     "execution_count": 9,
     "metadata": {},
     "output_type": "execute_result"
    }
   ],
   "source": [
    "wal[\"Occupation\"].value_counts()"
   ]
  },
  {
   "cell_type": "code",
   "execution_count": 10,
   "id": "31e701d4",
   "metadata": {},
   "outputs": [
    {
     "data": {
      "text/plain": [
       "M    414259\n",
       "F    135809\n",
       "Name: Gender, dtype: int64"
      ]
     },
     "execution_count": 10,
     "metadata": {},
     "output_type": "execute_result"
    }
   ],
   "source": [
    "wal[\"Gender\"].value_counts()"
   ]
  },
  {
   "cell_type": "code",
   "execution_count": 11,
   "id": "3783912e",
   "metadata": {},
   "outputs": [
    {
     "data": {
      "text/plain": [
       "M    75.310507\n",
       "F    24.689493\n",
       "Name: Gender, dtype: float64"
      ]
     },
     "execution_count": 11,
     "metadata": {},
     "output_type": "execute_result"
    }
   ],
   "source": [
    "#% of data consists of Males\n",
    "wal[\"Gender\"].value_counts(normalize=True)*100"
   ]
  },
  {
   "cell_type": "code",
   "execution_count": 12,
   "id": "42415cbe",
   "metadata": {},
   "outputs": [
    {
     "data": {
      "text/plain": [
       "0    324731\n",
       "1    225337\n",
       "Name: Marital_Status, dtype: int64"
      ]
     },
     "execution_count": 12,
     "metadata": {},
     "output_type": "execute_result"
    }
   ],
   "source": [
    "wal[\"Marital_Status\"].value_counts()"
   ]
  },
  {
   "cell_type": "code",
   "execution_count": 13,
   "id": "884c46bc",
   "metadata": {},
   "outputs": [
    {
     "data": {
      "text/plain": [
       "0    59.034701\n",
       "1    40.965299\n",
       "Name: Marital_Status, dtype: float64"
      ]
     },
     "execution_count": 13,
     "metadata": {},
     "output_type": "execute_result"
    }
   ],
   "source": [
    "#% of data consists of married\n",
    "wal[\"Marital_Status\"].value_counts(normalize=True)*100"
   ]
  },
  {
   "cell_type": "code",
   "execution_count": 14,
   "id": "1537e936",
   "metadata": {},
   "outputs": [
    {
     "data": {
      "text/plain": [
       "5     150933\n",
       "1     140378\n",
       "8     113925\n",
       "11     24287\n",
       "2      23864\n",
       "6      20466\n",
       "3      20213\n",
       "4      11753\n",
       "16      9828\n",
       "15      6290\n",
       "13      5549\n",
       "10      5125\n",
       "12      3947\n",
       "7       3721\n",
       "18      3125\n",
       "20      2550\n",
       "19      1603\n",
       "14      1523\n",
       "17       578\n",
       "9        410\n",
       "Name: Product_Category, dtype: int64"
      ]
     },
     "execution_count": 14,
     "metadata": {},
     "output_type": "execute_result"
    }
   ],
   "source": [
    "wal[\"Product_Category\"].value_counts()"
   ]
  },
  {
   "cell_type": "code",
   "execution_count": 15,
   "id": "8b56a43b",
   "metadata": {},
   "outputs": [
    {
     "data": {
      "text/plain": [
       "5     27.438971\n",
       "1     25.520118\n",
       "8     20.711076\n",
       "11     4.415272\n",
       "2      4.338373\n",
       "6      3.720631\n",
       "3      3.674637\n",
       "4      2.136645\n",
       "16     1.786688\n",
       "15     1.143495\n",
       "13     1.008784\n",
       "10     0.931703\n",
       "12     0.717548\n",
       "7      0.676462\n",
       "18     0.568112\n",
       "20     0.463579\n",
       "19     0.291419\n",
       "14     0.276875\n",
       "17     0.105078\n",
       "9      0.074536\n",
       "Name: Product_Category, dtype: float64"
      ]
     },
     "execution_count": 15,
     "metadata": {},
     "output_type": "execute_result"
    }
   ],
   "source": [
    "#% of most selling product category\n",
    "wal[\"Product_Category\"].value_counts(normalize=True)*100"
   ]
  },
  {
   "cell_type": "code",
   "execution_count": 16,
   "id": "2888969a",
   "metadata": {},
   "outputs": [
    {
     "data": {
      "text/plain": [
       "M    414259\n",
       "F    135809\n",
       "Name: Gender, dtype: int64"
      ]
     },
     "execution_count": 16,
     "metadata": {},
     "output_type": "execute_result"
    }
   ],
   "source": [
    "wal[\"Gender\"].value_counts()"
   ]
  },
  {
   "cell_type": "code",
   "execution_count": 17,
   "id": "dfcf1d4a",
   "metadata": {},
   "outputs": [
    {
     "data": {
      "text/plain": [
       "26-35    219587\n",
       "36-45    110013\n",
       "18-25     99660\n",
       "46-50     45701\n",
       "51-55     38501\n",
       "55+       21504\n",
       "0-17      15102\n",
       "Name: Age, dtype: int64"
      ]
     },
     "execution_count": 17,
     "metadata": {},
     "output_type": "execute_result"
    }
   ],
   "source": [
    "wal[\"Age\"].value_counts()"
   ]
  },
  {
   "cell_type": "code",
   "execution_count": 18,
   "id": "1838b90c",
   "metadata": {},
   "outputs": [
    {
     "data": {
      "text/plain": [
       "1     193821\n",
       "2     101838\n",
       "3      95285\n",
       "4+     84726\n",
       "0      74398\n",
       "Name: Stay_In_Current_City_Years, dtype: int64"
      ]
     },
     "execution_count": 18,
     "metadata": {},
     "output_type": "execute_result"
    }
   ],
   "source": [
    "wal[\"Stay_In_Current_City_Years\"].value_counts()"
   ]
  },
  {
   "cell_type": "code",
   "execution_count": 19,
   "id": "d750432e",
   "metadata": {},
   "outputs": [
    {
     "data": {
      "text/plain": [
       "B    231173\n",
       "C    171175\n",
       "A    147720\n",
       "Name: City_Category, dtype: int64"
      ]
     },
     "execution_count": 19,
     "metadata": {},
     "output_type": "execute_result"
    }
   ],
   "source": [
    "wal[\"City_Category\"].value_counts()"
   ]
  },
  {
   "cell_type": "code",
   "execution_count": 20,
   "id": "0077776a",
   "metadata": {},
   "outputs": [
    {
     "data": {
      "text/plain": [
       "P00265242    1880\n",
       "P00025442    1615\n",
       "P00110742    1612\n",
       "P00112142    1562\n",
       "P00057642    1470\n",
       "             ... \n",
       "P00314842       1\n",
       "P00298842       1\n",
       "P00231642       1\n",
       "P00204442       1\n",
       "P00066342       1\n",
       "Name: Product_ID, Length: 3631, dtype: int64"
      ]
     },
     "execution_count": 20,
     "metadata": {},
     "output_type": "execute_result"
    }
   ],
   "source": [
    "wal[\"Product_ID\"].value_counts()"
   ]
  },
  {
   "cell_type": "code",
   "execution_count": 21,
   "id": "885c76fa",
   "metadata": {},
   "outputs": [
    {
     "data": {
      "text/plain": [
       "3631"
      ]
     },
     "execution_count": 21,
     "metadata": {},
     "output_type": "execute_result"
    }
   ],
   "source": [
    "wal[\"Product_ID\"].nunique()"
   ]
  },
  {
   "cell_type": "code",
   "execution_count": 22,
   "id": "d91472c2",
   "metadata": {},
   "outputs": [
    {
     "data": {
      "text/plain": [
       "<AxesSubplot:xlabel='Product_ID', ylabel='count'>"
      ]
     },
     "execution_count": 22,
     "metadata": {},
     "output_type": "execute_result"
    },
    {
     "data": {
      "image/png": "[encoded data removed]",
      "text/plain": [
       "<Figure size 432x288 with 1 Axes>"
      ]
     },
     "metadata": {
      "needs_background": "light"
     },
     "output_type": "display_data"
    }
   ],
   "source": [
    "sns.countplot(data=wal,x=\"Product_ID\", order=wal[\"Product_ID\"].value_counts().index)"
   ]
  },
  {
   "cell_type": "code",
   "execution_count": 23,
   "id": "867f7974",
   "metadata": {},
   "outputs": [
    {
     "data": {
      "text/plain": [
       "<AxesSubplot:xlabel='Gender', ylabel='Purchase'>"
      ]
     },
     "execution_count": 23,
     "metadata": {},
     "output_type": "execute_result"
    },
    {
     "data": {
      "image/png": "[encoded data removed]",
      "text/plain": [
       "<Figure size 432x288 with 1 Axes>"
      ]
     },
     "metadata": {
      "needs_background": "light"
     },
     "output_type": "display_data"
    }
   ],
   "source": [
    "# bivariate analysis\n",
    "#Purchase amount Vs Gender\n",
    "sns.boxplot(data=wal,y=\"Purchase\",x=\"Gender\")"
   ]
  },
  {
   "cell_type": "code",
   "execution_count": 24,
   "id": "6912e565",
   "metadata": {},
   "outputs": [
    {
     "data": {
      "text/plain": [
       "<AxesSubplot:xlabel='Age', ylabel='Purchase'>"
      ]
     },
     "execution_count": 24,
     "metadata": {},
     "output_type": "execute_result"
    },
    {
     "data": {
      "image/png": "[encoded data removed]",
      "text/plain": [
       "<Figure size 432x288 with 1 Axes>"
      ]
     },
     "metadata": {
      "needs_background": "light"
     },
     "output_type": "display_data"
    }
   ],
   "source": [
    "#Purchase amount Vs Age\n",
    "sns.boxplot(data=wal,y=\"Purchase\",x=\"Age\")"
   ]
  },
  {
   "cell_type": "code",
   "execution_count": 25,
   "id": "515977e1",
   "metadata": {},
   "outputs": [
    {
     "data": {
      "text/plain": [
       "<AxesSubplot:xlabel='Marital_Status', ylabel='Purchase'>"
      ]
     },
     "execution_count": 25,
     "metadata": {},
     "output_type": "execute_result"
    },
    {
     "data": {
      "image/png": "[encoded data removed]",
      "text/plain": [
       "<Figure size 432x288 with 1 Axes>"
      ]
     },
     "metadata": {
      "needs_background": "light"
     },
     "output_type": "display_data"
    }
   ],
   "source": [
    "#Purchase amount Vs Marital_Status\n",
    "sns.boxplot(data=wal,y=\"Purchase\",x=\"Marital_Status\")"
   ]
  },
  {
   "cell_type": "code",
   "execution_count": 26,
   "id": "c883c0f7",
   "metadata": {},
   "outputs": [
    {
     "data": {
      "text/plain": [
       "<AxesSubplot:xlabel='Occupation', ylabel='Purchase'>"
      ]
     },
     "execution_count": 26,
     "metadata": {},
     "output_type": "execute_result"
    },
    {
     "data": {
      "image/png": "[encoded data removed]",
      "text/plain": [
       "<Figure size 432x288 with 1 Axes>"
      ]
     },
     "metadata": {
      "needs_background": "light"
     },
     "output_type": "display_data"
    }
   ],
   "source": [
    "#Purchase amount Vs Occupation\n",
    "sns.boxplot(data=wal,y=\"Purchase\",x=\"Occupation\")"
   ]
  },
  {
   "cell_type": "code",
   "execution_count": 27,
   "id": "69a75774",
   "metadata": {},
   "outputs": [
    {
     "data": {
      "text/plain": [
       "<AxesSubplot:xlabel='City_Category', ylabel='Purchase'>"
      ]
     },
     "execution_count": 27,
     "metadata": {},
     "output_type": "execute_result"
    },
    {
     "data": {
      "image/png": "[encoded data removed]",
      "text/plain": [
       "<Figure size 432x288 with 1 Axes>"
      ]
     },
     "metadata": {
      "needs_background": "light"
     },
     "output_type": "display_data"
    }
   ],
   "source": [
    "#Purchase amount Vs City_Category\n",
    "sns.boxplot(data=wal,y=\"Purchase\",x=\"City_Category\")"
   ]
  },
  {
   "cell_type": "code",
   "execution_count": 28,
   "id": "9559bc3e",
   "metadata": {},
   "outputs": [],
   "source": [
    "#Categoriacal vs categorical\n",
    "#product_categorey Vs various attributes"
   ]
  },
  {
   "cell_type": "code",
   "execution_count": 29,
   "id": "da855028",
   "metadata": {},
   "outputs": [],
   "source": [
    "df_wal=wal.groupby([\"Product_Category\",\"Gender\"]).size().reset_index().pivot(columns=\"Gender\",index=\"Product_Category\")"
   ]
  },
  {
   "cell_type": "code",
   "execution_count": 30,
   "id": "ca390d88",
   "metadata": {},
   "outputs": [
    {
     "data": {
      "text/html": [
       "<div>\n",
       "<style scoped>\n",
       "    .dataframe tbody tr th:only-of-type {\n",
       "        vertical-align: middle;\n",
       "    }\n",
       "\n",
       "    .dataframe tbody tr th {\n",
       "        vertical-align: top;\n",
       "    }\n",
       "\n",
       "    .dataframe thead tr th {\n",
       "        text-align: left;\n",
       "    }\n",
       "\n",
       "    .dataframe thead tr:last-of-type th {\n",
       "        text-align: right;\n",
       "    }\n",
       "</style>\n",
       "<table border=\"1\" class=\"dataframe\">\n",
       "  <thead>\n",
       "    <tr>\n",
       "      <th></th>\n",
       "      <th colspan=\"2\" halign=\"left\">0</th>\n",
       "    </tr>\n",
       "    <tr>\n",
       "      <th>Gender</th>\n",
       "      <th>F</th>\n",
       "      <th>M</th>\n",
       "    </tr>\n",
       "    <tr>\n",
       "      <th>Product_Category</th>\n",
       "      <th></th>\n",
       "      <th></th>\n",
       "    </tr>\n",
       "  </thead>\n",
       "  <tbody>\n",
       "    <tr>\n",
       "      <th>1</th>\n",
       "      <td>24831</td>\n",
       "      <td>115547</td>\n",
       "    </tr>\n",
       "    <tr>\n",
       "      <th>2</th>\n",
       "      <td>5658</td>\n",
       "      <td>18206</td>\n",
       "    </tr>\n",
       "    <tr>\n",
       "      <th>3</th>\n",
       "      <td>6006</td>\n",
       "      <td>14207</td>\n",
       "    </tr>\n",
       "    <tr>\n",
       "      <th>4</th>\n",
       "      <td>3639</td>\n",
       "      <td>8114</td>\n",
       "    </tr>\n",
       "    <tr>\n",
       "      <th>5</th>\n",
       "      <td>41961</td>\n",
       "      <td>108972</td>\n",
       "    </tr>\n",
       "    <tr>\n",
       "      <th>6</th>\n",
       "      <td>4559</td>\n",
       "      <td>15907</td>\n",
       "    </tr>\n",
       "    <tr>\n",
       "      <th>7</th>\n",
       "      <td>943</td>\n",
       "      <td>2778</td>\n",
       "    </tr>\n",
       "    <tr>\n",
       "      <th>8</th>\n",
       "      <td>33558</td>\n",
       "      <td>80367</td>\n",
       "    </tr>\n",
       "    <tr>\n",
       "      <th>9</th>\n",
       "      <td>70</td>\n",
       "      <td>340</td>\n",
       "    </tr>\n",
       "    <tr>\n",
       "      <th>10</th>\n",
       "      <td>1162</td>\n",
       "      <td>3963</td>\n",
       "    </tr>\n",
       "    <tr>\n",
       "      <th>11</th>\n",
       "      <td>4739</td>\n",
       "      <td>19548</td>\n",
       "    </tr>\n",
       "    <tr>\n",
       "      <th>12</th>\n",
       "      <td>1532</td>\n",
       "      <td>2415</td>\n",
       "    </tr>\n",
       "    <tr>\n",
       "      <th>13</th>\n",
       "      <td>1462</td>\n",
       "      <td>4087</td>\n",
       "    </tr>\n",
       "    <tr>\n",
       "      <th>14</th>\n",
       "      <td>623</td>\n",
       "      <td>900</td>\n",
       "    </tr>\n",
       "    <tr>\n",
       "      <th>15</th>\n",
       "      <td>1046</td>\n",
       "      <td>5244</td>\n",
       "    </tr>\n",
       "    <tr>\n",
       "      <th>16</th>\n",
       "      <td>2402</td>\n",
       "      <td>7426</td>\n",
       "    </tr>\n",
       "    <tr>\n",
       "      <th>17</th>\n",
       "      <td>62</td>\n",
       "      <td>516</td>\n",
       "    </tr>\n",
       "    <tr>\n",
       "      <th>18</th>\n",
       "      <td>382</td>\n",
       "      <td>2743</td>\n",
       "    </tr>\n",
       "    <tr>\n",
       "      <th>19</th>\n",
       "      <td>451</td>\n",
       "      <td>1152</td>\n",
       "    </tr>\n",
       "    <tr>\n",
       "      <th>20</th>\n",
       "      <td>723</td>\n",
       "      <td>1827</td>\n",
       "    </tr>\n",
       "  </tbody>\n",
       "</table>\n",
       "</div>"
      ],
      "text/plain": [
       "                      0        \n",
       "Gender                F       M\n",
       "Product_Category               \n",
       "1                 24831  115547\n",
       "2                  5658   18206\n",
       "3                  6006   14207\n",
       "4                  3639    8114\n",
       "5                 41961  108972\n",
       "6                  4559   15907\n",
       "7                   943    2778\n",
       "8                 33558   80367\n",
       "9                    70     340\n",
       "10                 1162    3963\n",
       "11                 4739   19548\n",
       "12                 1532    2415\n",
       "13                 1462    4087\n",
       "14                  623     900\n",
       "15                 1046    5244\n",
       "16                 2402    7426\n",
       "17                   62     516\n",
       "18                  382    2743\n",
       "19                  451    1152\n",
       "20                  723    1827"
      ]
     },
     "execution_count": 30,
     "metadata": {},
     "output_type": "execute_result"
    }
   ],
   "source": [
    "df_wal"
   ]
  },
  {
   "cell_type": "code",
   "execution_count": 31,
   "id": "f8e05051",
   "metadata": {},
   "outputs": [
    {
     "data": {
      "text/plain": [
       "<AxesSubplot:xlabel='Product_Category'>"
      ]
     },
     "execution_count": 31,
     "metadata": {},
     "output_type": "execute_result"
    },
    {
     "data": {
      "image/png": "[encoded data removed]",
      "text/plain": [
       "<Figure size 432x288 with 1 Axes>"
      ]
     },
     "metadata": {
      "needs_background": "light"
     },
     "output_type": "display_data"
    }
   ],
   "source": [
    "df_wal.plot(kind=\"bar\",stacked=True)"
   ]
  },
  {
   "cell_type": "code",
   "execution_count": 32,
   "id": "f90e7854",
   "metadata": {},
   "outputs": [],
   "source": [
    "df_wal=wal.groupby([\"Product_Category\",\"Marital_Status\"]).size().reset_index().pivot(columns=\"Marital_Status\",index=\"Product_Category\")"
   ]
  },
  {
   "cell_type": "code",
   "execution_count": 33,
   "id": "23ae7d8c",
   "metadata": {},
   "outputs": [
    {
     "data": {
      "text/html": [
       "<div>\n",
       "<style scoped>\n",
       "    .dataframe tbody tr th:only-of-type {\n",
       "        vertical-align: middle;\n",
       "    }\n",
       "\n",
       "    .dataframe tbody tr th {\n",
       "        vertical-align: top;\n",
       "    }\n",
       "\n",
       "    .dataframe thead tr th {\n",
       "        text-align: left;\n",
       "    }\n",
       "\n",
       "    .dataframe thead tr:last-of-type th {\n",
       "        text-align: right;\n",
       "    }\n",
       "</style>\n",
       "<table border=\"1\" class=\"dataframe\">\n",
       "  <thead>\n",
       "    <tr>\n",
       "      <th></th>\n",
       "      <th colspan=\"2\" halign=\"left\">0</th>\n",
       "    </tr>\n",
       "    <tr>\n",
       "      <th>Marital_Status</th>\n",
       "      <th>0</th>\n",
       "      <th>1</th>\n",
       "    </tr>\n",
       "    <tr>\n",
       "      <th>Product_Category</th>\n",
       "      <th></th>\n",
       "      <th></th>\n",
       "    </tr>\n",
       "  </thead>\n",
       "  <tbody>\n",
       "    <tr>\n",
       "      <th>1</th>\n",
       "      <td>84375</td>\n",
       "      <td>56003</td>\n",
       "    </tr>\n",
       "    <tr>\n",
       "      <th>2</th>\n",
       "      <td>14138</td>\n",
       "      <td>9726</td>\n",
       "    </tr>\n",
       "    <tr>\n",
       "      <th>3</th>\n",
       "      <td>12359</td>\n",
       "      <td>7854</td>\n",
       "    </tr>\n",
       "    <tr>\n",
       "      <th>4</th>\n",
       "      <td>7177</td>\n",
       "      <td>4576</td>\n",
       "    </tr>\n",
       "    <tr>\n",
       "      <th>5</th>\n",
       "      <td>89656</td>\n",
       "      <td>61277</td>\n",
       "    </tr>\n",
       "    <tr>\n",
       "      <th>6</th>\n",
       "      <td>12139</td>\n",
       "      <td>8327</td>\n",
       "    </tr>\n",
       "    <tr>\n",
       "      <th>7</th>\n",
       "      <td>2040</td>\n",
       "      <td>1681</td>\n",
       "    </tr>\n",
       "    <tr>\n",
       "      <th>8</th>\n",
       "      <td>65411</td>\n",
       "      <td>48514</td>\n",
       "    </tr>\n",
       "    <tr>\n",
       "      <th>9</th>\n",
       "      <td>247</td>\n",
       "      <td>163</td>\n",
       "    </tr>\n",
       "    <tr>\n",
       "      <th>10</th>\n",
       "      <td>2778</td>\n",
       "      <td>2347</td>\n",
       "    </tr>\n",
       "    <tr>\n",
       "      <th>11</th>\n",
       "      <td>14668</td>\n",
       "      <td>9619</td>\n",
       "    </tr>\n",
       "    <tr>\n",
       "      <th>12</th>\n",
       "      <td>2034</td>\n",
       "      <td>1913</td>\n",
       "    </tr>\n",
       "    <tr>\n",
       "      <th>13</th>\n",
       "      <td>3162</td>\n",
       "      <td>2387</td>\n",
       "    </tr>\n",
       "    <tr>\n",
       "      <th>14</th>\n",
       "      <td>846</td>\n",
       "      <td>677</td>\n",
       "    </tr>\n",
       "    <tr>\n",
       "      <th>15</th>\n",
       "      <td>3623</td>\n",
       "      <td>2667</td>\n",
       "    </tr>\n",
       "    <tr>\n",
       "      <th>16</th>\n",
       "      <td>5713</td>\n",
       "      <td>4115</td>\n",
       "    </tr>\n",
       "    <tr>\n",
       "      <th>17</th>\n",
       "      <td>298</td>\n",
       "      <td>280</td>\n",
       "    </tr>\n",
       "    <tr>\n",
       "      <th>18</th>\n",
       "      <td>1641</td>\n",
       "      <td>1484</td>\n",
       "    </tr>\n",
       "    <tr>\n",
       "      <th>19</th>\n",
       "      <td>946</td>\n",
       "      <td>657</td>\n",
       "    </tr>\n",
       "    <tr>\n",
       "      <th>20</th>\n",
       "      <td>1480</td>\n",
       "      <td>1070</td>\n",
       "    </tr>\n",
       "  </tbody>\n",
       "</table>\n",
       "</div>"
      ],
      "text/plain": [
       "                      0       \n",
       "Marital_Status        0      1\n",
       "Product_Category              \n",
       "1                 84375  56003\n",
       "2                 14138   9726\n",
       "3                 12359   7854\n",
       "4                  7177   4576\n",
       "5                 89656  61277\n",
       "6                 12139   8327\n",
       "7                  2040   1681\n",
       "8                 65411  48514\n",
       "9                   247    163\n",
       "10                 2778   2347\n",
       "11                14668   9619\n",
       "12                 2034   1913\n",
       "13                 3162   2387\n",
       "14                  846    677\n",
       "15                 3623   2667\n",
       "16                 5713   4115\n",
       "17                  298    280\n",
       "18                 1641   1484\n",
       "19                  946    657\n",
       "20                 1480   1070"
      ]
     },
     "execution_count": 33,
     "metadata": {},
     "output_type": "execute_result"
    }
   ],
   "source": [
    "df_wal"
   ]
  },
  {
   "cell_type": "code",
   "execution_count": 34,
   "id": "6acade01",
   "metadata": {},
   "outputs": [
    {
     "data": {
      "text/plain": [
       "<AxesSubplot:xlabel='Product_Category'>"
      ]
     },
     "execution_count": 34,
     "metadata": {},
     "output_type": "execute_result"
    },
    {
     "data": {
      "image/png": "[encoded data removed]",
      "text/plain": [
       "<Figure size 432x288 with 1 Axes>"
      ]
     },
     "metadata": {
      "needs_background": "light"
     },
     "output_type": "display_data"
    }
   ],
   "source": [
    "df_wal.plot(kind=\"bar\",stacked=True)"
   ]
  },
  {
   "cell_type": "code",
   "execution_count": 35,
   "id": "21e7e786",
   "metadata": {},
   "outputs": [],
   "source": [
    "df_wal2=wal.groupby([\"Product_Category\",\"City_Category\"]).size().reset_index().pivot(columns=\"City_Category\",index=\"Product_Category\")"
   ]
  },
  {
   "cell_type": "code",
   "execution_count": 36,
   "id": "317c60b7",
   "metadata": {},
   "outputs": [
    {
     "data": {
      "text/html": [
       "<div>\n",
       "<style scoped>\n",
       "    .dataframe tbody tr th:only-of-type {\n",
       "        vertical-align: middle;\n",
       "    }\n",
       "\n",
       "    .dataframe tbody tr th {\n",
       "        vertical-align: top;\n",
       "    }\n",
       "\n",
       "    .dataframe thead tr th {\n",
       "        text-align: left;\n",
       "    }\n",
       "\n",
       "    .dataframe thead tr:last-of-type th {\n",
       "        text-align: right;\n",
       "    }\n",
       "</style>\n",
       "<table border=\"1\" class=\"dataframe\">\n",
       "  <thead>\n",
       "    <tr>\n",
       "      <th></th>\n",
       "      <th colspan=\"3\" halign=\"left\">0</th>\n",
       "    </tr>\n",
       "    <tr>\n",
       "      <th>City_Category</th>\n",
       "      <th>A</th>\n",
       "      <th>B</th>\n",
       "      <th>C</th>\n",
       "    </tr>\n",
       "    <tr>\n",
       "      <th>Product_Category</th>\n",
       "      <th></th>\n",
       "      <th></th>\n",
       "      <th></th>\n",
       "    </tr>\n",
       "  </thead>\n",
       "  <tbody>\n",
       "    <tr>\n",
       "      <th>1</th>\n",
       "      <td>35081</td>\n",
       "      <td>58253</td>\n",
       "      <td>47044</td>\n",
       "    </tr>\n",
       "    <tr>\n",
       "      <th>2</th>\n",
       "      <td>6141</td>\n",
       "      <td>10444</td>\n",
       "      <td>7279</td>\n",
       "    </tr>\n",
       "    <tr>\n",
       "      <th>3</th>\n",
       "      <td>4943</td>\n",
       "      <td>8587</td>\n",
       "      <td>6683</td>\n",
       "    </tr>\n",
       "    <tr>\n",
       "      <th>4</th>\n",
       "      <td>3050</td>\n",
       "      <td>5226</td>\n",
       "      <td>3477</td>\n",
       "    </tr>\n",
       "    <tr>\n",
       "      <th>5</th>\n",
       "      <td>42211</td>\n",
       "      <td>64138</td>\n",
       "      <td>44584</td>\n",
       "    </tr>\n",
       "    <tr>\n",
       "      <th>6</th>\n",
       "      <td>5507</td>\n",
       "      <td>8526</td>\n",
       "      <td>6433</td>\n",
       "    </tr>\n",
       "    <tr>\n",
       "      <th>7</th>\n",
       "      <td>1226</td>\n",
       "      <td>1599</td>\n",
       "      <td>896</td>\n",
       "    </tr>\n",
       "    <tr>\n",
       "      <th>8</th>\n",
       "      <td>32179</td>\n",
       "      <td>47553</td>\n",
       "      <td>34193</td>\n",
       "    </tr>\n",
       "    <tr>\n",
       "      <th>9</th>\n",
       "      <td>110</td>\n",
       "      <td>174</td>\n",
       "      <td>126</td>\n",
       "    </tr>\n",
       "    <tr>\n",
       "      <th>10</th>\n",
       "      <td>1333</td>\n",
       "      <td>2063</td>\n",
       "      <td>1729</td>\n",
       "    </tr>\n",
       "    <tr>\n",
       "      <th>11</th>\n",
       "      <td>6601</td>\n",
       "      <td>10485</td>\n",
       "      <td>7201</td>\n",
       "    </tr>\n",
       "    <tr>\n",
       "      <th>12</th>\n",
       "      <td>1063</td>\n",
       "      <td>1675</td>\n",
       "      <td>1209</td>\n",
       "    </tr>\n",
       "    <tr>\n",
       "      <th>13</th>\n",
       "      <td>1614</td>\n",
       "      <td>2271</td>\n",
       "      <td>1664</td>\n",
       "    </tr>\n",
       "    <tr>\n",
       "      <th>14</th>\n",
       "      <td>481</td>\n",
       "      <td>632</td>\n",
       "      <td>410</td>\n",
       "    </tr>\n",
       "    <tr>\n",
       "      <th>15</th>\n",
       "      <td>1717</td>\n",
       "      <td>2638</td>\n",
       "      <td>1935</td>\n",
       "    </tr>\n",
       "    <tr>\n",
       "      <th>16</th>\n",
       "      <td>2848</td>\n",
       "      <td>4038</td>\n",
       "      <td>2942</td>\n",
       "    </tr>\n",
       "    <tr>\n",
       "      <th>17</th>\n",
       "      <td>121</td>\n",
       "      <td>267</td>\n",
       "      <td>190</td>\n",
       "    </tr>\n",
       "    <tr>\n",
       "      <th>18</th>\n",
       "      <td>753</td>\n",
       "      <td>1389</td>\n",
       "      <td>983</td>\n",
       "    </tr>\n",
       "    <tr>\n",
       "      <th>19</th>\n",
       "      <td>273</td>\n",
       "      <td>462</td>\n",
       "      <td>868</td>\n",
       "    </tr>\n",
       "    <tr>\n",
       "      <th>20</th>\n",
       "      <td>468</td>\n",
       "      <td>753</td>\n",
       "      <td>1329</td>\n",
       "    </tr>\n",
       "  </tbody>\n",
       "</table>\n",
       "</div>"
      ],
      "text/plain": [
       "                      0              \n",
       "City_Category         A      B      C\n",
       "Product_Category                     \n",
       "1                 35081  58253  47044\n",
       "2                  6141  10444   7279\n",
       "3                  4943   8587   6683\n",
       "4                  3050   5226   3477\n",
       "5                 42211  64138  44584\n",
       "6                  5507   8526   6433\n",
       "7                  1226   1599    896\n",
       "8                 32179  47553  34193\n",
       "9                   110    174    126\n",
       "10                 1333   2063   1729\n",
       "11                 6601  10485   7201\n",
       "12                 1063   1675   1209\n",
       "13                 1614   2271   1664\n",
       "14                  481    632    410\n",
       "15                 1717   2638   1935\n",
       "16                 2848   4038   2942\n",
       "17                  121    267    190\n",
       "18                  753   1389    983\n",
       "19                  273    462    868\n",
       "20                  468    753   1329"
      ]
     },
     "execution_count": 36,
     "metadata": {},
     "output_type": "execute_result"
    }
   ],
   "source": [
    "df_wal2"
   ]
  },
  {
   "cell_type": "code",
   "execution_count": 37,
   "id": "e684628a",
   "metadata": {
    "scrolled": true
   },
   "outputs": [
    {
     "data": {
      "text/plain": [
       "<AxesSubplot:xlabel='Product_Category'>"
      ]
     },
     "execution_count": 37,
     "metadata": {},
     "output_type": "execute_result"
    },
    {
     "data": {
      "image/png": "[encoded data removed]",
      "text/plain": [
       "<Figure size 432x288 with 1 Axes>"
      ]
     },
     "metadata": {
      "needs_background": "light"
     },
     "output_type": "display_data"
    }
   ],
   "source": [
    "df_wal2.plot(kind=\"bar\",stacked=True)"
   ]
  },
  {
   "cell_type": "code",
   "execution_count": 38,
   "id": "de9dc5b4",
   "metadata": {},
   "outputs": [],
   "source": [
    "#Stay_In_Current_City_Years"
   ]
  },
  {
   "cell_type": "code",
   "execution_count": 39,
   "id": "ef96e43a",
   "metadata": {},
   "outputs": [
    {
     "data": {
      "text/plain": [
       "<AxesSubplot:xlabel='Stay_In_Current_City_Years', ylabel='count'>"
      ]
     },
     "execution_count": 39,
     "metadata": {},
     "output_type": "execute_result"
    },
    {
     "data": {
      "image/png": "[encoded data removed]",
      "text/plain": [
       "<Figure size 432x288 with 1 Axes>"
      ]
     },
     "metadata": {
      "needs_background": "light"
     },
     "output_type": "display_data"
    }
   ],
   "source": [
    "sns.countplot(data=wal,x=\"Stay_In_Current_City_Years\", order=wal[\"Stay_In_Current_City_Years\"].value_counts().index)"
   ]
  },
  {
   "cell_type": "code",
   "execution_count": 40,
   "id": "a83a9417",
   "metadata": {},
   "outputs": [
    {
     "data": {
      "text/plain": [
       "<AxesSubplot:xlabel='Stay_In_Current_City_Years', ylabel='count'>"
      ]
     },
     "execution_count": 40,
     "metadata": {},
     "output_type": "execute_result"
    },
    {
     "data": {
      "image/png": "[encoded data removed]",
      "text/plain": [
       "<Figure size 432x288 with 1 Axes>"
      ]
     },
     "metadata": {
      "needs_background": "light"
     },
     "output_type": "display_data"
    }
   ],
   "source": [
    "sns.countplot(data=wal,x=\"Stay_In_Current_City_Years\")"
   ]
  },
  {
   "cell_type": "code",
   "execution_count": 41,
   "id": "a3561c63",
   "metadata": {},
   "outputs": [
    {
     "data": {
      "text/plain": [
       "<AxesSubplot:xlabel='Gender', ylabel='count'>"
      ]
     },
     "execution_count": 41,
     "metadata": {},
     "output_type": "execute_result"
    },
    {
     "data": {
      "image/png": "[encoded data removed]",
      "text/plain": [
       "<Figure size 432x288 with 1 Axes>"
      ]
     },
     "metadata": {
      "needs_background": "light"
     },
     "output_type": "display_data"
    }
   ],
   "source": [
    "sns.countplot(data=wal,x=\"Gender\", order=wal[\"Gender\"].value_counts().index)"
   ]
  },
  {
   "cell_type": "code",
   "execution_count": 42,
   "id": "d96d0ad8",
   "metadata": {},
   "outputs": [
    {
     "data": {
      "text/plain": [
       "<AxesSubplot:xlabel='Age', ylabel='count'>"
      ]
     },
     "execution_count": 42,
     "metadata": {},
     "output_type": "execute_result"
    },
    {
     "data": {
      "image/png": "[encoded data removed]",
      "text/plain": [
       "<Figure size 432x288 with 1 Axes>"
      ]
     },
     "metadata": {
      "needs_background": "light"
     },
     "output_type": "display_data"
    }
   ],
   "source": [
    "sns.countplot(data=wal,x=\"Age\", order=wal[\"Age\"].value_counts().index)"
   ]
  },
  {
   "cell_type": "code",
   "execution_count": 43,
   "id": "3f6617e2",
   "metadata": {},
   "outputs": [
    {
     "data": {
      "text/plain": [
       "<AxesSubplot:xlabel='City_Category', ylabel='count'>"
      ]
     },
     "execution_count": 43,
     "metadata": {},
     "output_type": "execute_result"
    },
    {
     "data": {
      "image/png": "[encoded data removed]",
      "text/plain": [
       "<Figure size 432x288 with 1 Axes>"
      ]
     },
     "metadata": {
      "needs_background": "light"
     },
     "output_type": "display_data"
    }
   ],
   "source": [
    "sns.countplot(data=wal,x=\"City_Category\", order=wal[\"City_Category\"].value_counts().index)"
   ]
  },
  {
   "cell_type": "code",
   "execution_count": 44,
   "id": "a75bda63",
   "metadata": {},
   "outputs": [
    {
     "data": {
      "text/plain": [
       "<AxesSubplot:xlabel='Marital_Status', ylabel='count'>"
      ]
     },
     "execution_count": 44,
     "metadata": {},
     "output_type": "execute_result"
    },
    {
     "data": {
      "image/png": "[encoded data removed]",
      "text/plain": [
       "<Figure size 432x288 with 1 Axes>"
      ]
     },
     "metadata": {
      "needs_background": "light"
     },
     "output_type": "display_data"
    }
   ],
   "source": [
    "sns.countplot(data=wal,x=\"Marital_Status\", order=wal[\"Marital_Status\"].value_counts().index)"
   ]
  },
  {
   "cell_type": "code",
   "execution_count": 45,
   "id": "fc6dacb6",
   "metadata": {},
   "outputs": [],
   "source": [
    "#Probability Analysis"
   ]
  },
  {
   "cell_type": "code",
   "execution_count": 46,
   "id": "13ca0634",
   "metadata": {},
   "outputs": [
    {
     "data": {
      "text/html": [
       "<div>\n",
       "<style scoped>\n",
       "    .dataframe tbody tr th:only-of-type {\n",
       "        vertical-align: middle;\n",
       "    }\n",
       "\n",
       "    .dataframe tbody tr th {\n",
       "        vertical-align: top;\n",
       "    }\n",
       "\n",
       "    .dataframe thead th {\n",
       "        text-align: right;\n",
       "    }\n",
       "</style>\n",
       "<table border=\"1\" class=\"dataframe\">\n",
       "  <thead>\n",
       "    <tr style=\"text-align: right;\">\n",
       "      <th>Gender</th>\n",
       "      <th>F</th>\n",
       "      <th>M</th>\n",
       "      <th>All</th>\n",
       "    </tr>\n",
       "    <tr>\n",
       "      <th>Product_Category</th>\n",
       "      <th></th>\n",
       "      <th></th>\n",
       "      <th></th>\n",
       "    </tr>\n",
       "  </thead>\n",
       "  <tbody>\n",
       "    <tr>\n",
       "      <th>1</th>\n",
       "      <td>4.514169</td>\n",
       "      <td>21.005948</td>\n",
       "      <td>25.520118</td>\n",
       "    </tr>\n",
       "    <tr>\n",
       "      <th>2</th>\n",
       "      <td>1.028600</td>\n",
       "      <td>3.309773</td>\n",
       "      <td>4.338373</td>\n",
       "    </tr>\n",
       "    <tr>\n",
       "      <th>3</th>\n",
       "      <td>1.091865</td>\n",
       "      <td>2.582772</td>\n",
       "      <td>3.674637</td>\n",
       "    </tr>\n",
       "    <tr>\n",
       "      <th>4</th>\n",
       "      <td>0.661555</td>\n",
       "      <td>1.475090</td>\n",
       "      <td>2.136645</td>\n",
       "    </tr>\n",
       "    <tr>\n",
       "      <th>5</th>\n",
       "      <td>7.628330</td>\n",
       "      <td>19.810642</td>\n",
       "      <td>27.438971</td>\n",
       "    </tr>\n",
       "    <tr>\n",
       "      <th>6</th>\n",
       "      <td>0.828807</td>\n",
       "      <td>2.891824</td>\n",
       "      <td>3.720631</td>\n",
       "    </tr>\n",
       "    <tr>\n",
       "      <th>7</th>\n",
       "      <td>0.171433</td>\n",
       "      <td>0.505028</td>\n",
       "      <td>0.676462</td>\n",
       "    </tr>\n",
       "    <tr>\n",
       "      <th>8</th>\n",
       "      <td>6.100700</td>\n",
       "      <td>14.610375</td>\n",
       "      <td>20.711076</td>\n",
       "    </tr>\n",
       "    <tr>\n",
       "      <th>9</th>\n",
       "      <td>0.012726</td>\n",
       "      <td>0.061811</td>\n",
       "      <td>0.074536</td>\n",
       "    </tr>\n",
       "    <tr>\n",
       "      <th>10</th>\n",
       "      <td>0.211247</td>\n",
       "      <td>0.720456</td>\n",
       "      <td>0.931703</td>\n",
       "    </tr>\n",
       "    <tr>\n",
       "      <th>11</th>\n",
       "      <td>0.861530</td>\n",
       "      <td>3.553742</td>\n",
       "      <td>4.415272</td>\n",
       "    </tr>\n",
       "    <tr>\n",
       "      <th>12</th>\n",
       "      <td>0.278511</td>\n",
       "      <td>0.439037</td>\n",
       "      <td>0.717548</td>\n",
       "    </tr>\n",
       "    <tr>\n",
       "      <th>13</th>\n",
       "      <td>0.265785</td>\n",
       "      <td>0.742999</td>\n",
       "      <td>1.008784</td>\n",
       "    </tr>\n",
       "    <tr>\n",
       "      <th>14</th>\n",
       "      <td>0.113259</td>\n",
       "      <td>0.163616</td>\n",
       "      <td>0.276875</td>\n",
       "    </tr>\n",
       "    <tr>\n",
       "      <th>15</th>\n",
       "      <td>0.190158</td>\n",
       "      <td>0.953337</td>\n",
       "      <td>1.143495</td>\n",
       "    </tr>\n",
       "    <tr>\n",
       "      <th>16</th>\n",
       "      <td>0.436673</td>\n",
       "      <td>1.350015</td>\n",
       "      <td>1.786688</td>\n",
       "    </tr>\n",
       "    <tr>\n",
       "      <th>17</th>\n",
       "      <td>0.011271</td>\n",
       "      <td>0.093807</td>\n",
       "      <td>0.105078</td>\n",
       "    </tr>\n",
       "    <tr>\n",
       "      <th>18</th>\n",
       "      <td>0.069446</td>\n",
       "      <td>0.498666</td>\n",
       "      <td>0.568112</td>\n",
       "    </tr>\n",
       "    <tr>\n",
       "      <th>19</th>\n",
       "      <td>0.081990</td>\n",
       "      <td>0.209429</td>\n",
       "      <td>0.291419</td>\n",
       "    </tr>\n",
       "    <tr>\n",
       "      <th>20</th>\n",
       "      <td>0.131438</td>\n",
       "      <td>0.332141</td>\n",
       "      <td>0.463579</td>\n",
       "    </tr>\n",
       "    <tr>\n",
       "      <th>All</th>\n",
       "      <td>24.689493</td>\n",
       "      <td>75.310507</td>\n",
       "      <td>100.000000</td>\n",
       "    </tr>\n",
       "  </tbody>\n",
       "</table>\n",
       "</div>"
      ],
      "text/plain": [
       "Gender                    F          M         All\n",
       "Product_Category                                  \n",
       "1                  4.514169  21.005948   25.520118\n",
       "2                  1.028600   3.309773    4.338373\n",
       "3                  1.091865   2.582772    3.674637\n",
       "4                  0.661555   1.475090    2.136645\n",
       "5                  7.628330  19.810642   27.438971\n",
       "6                  0.828807   2.891824    3.720631\n",
       "7                  0.171433   0.505028    0.676462\n",
       "8                  6.100700  14.610375   20.711076\n",
       "9                  0.012726   0.061811    0.074536\n",
       "10                 0.211247   0.720456    0.931703\n",
       "11                 0.861530   3.553742    4.415272\n",
       "12                 0.278511   0.439037    0.717548\n",
       "13                 0.265785   0.742999    1.008784\n",
       "14                 0.113259   0.163616    0.276875\n",
       "15                 0.190158   0.953337    1.143495\n",
       "16                 0.436673   1.350015    1.786688\n",
       "17                 0.011271   0.093807    0.105078\n",
       "18                 0.069446   0.498666    0.568112\n",
       "19                 0.081990   0.209429    0.291419\n",
       "20                 0.131438   0.332141    0.463579\n",
       "All               24.689493  75.310507  100.000000"
      ]
     },
     "execution_count": 46,
     "metadata": {},
     "output_type": "execute_result"
    }
   ],
   "source": [
    "pd.crosstab(index=wal[\"Product_Category\"],columns=wal[\"Gender\"],margins=True,normalize=True)*100"
   ]
  },
  {
   "cell_type": "code",
   "execution_count": 47,
   "id": "aeaec09e",
   "metadata": {},
   "outputs": [
    {
     "data": {
      "text/html": [
       "<div>\n",
       "<style scoped>\n",
       "    .dataframe tbody tr th:only-of-type {\n",
       "        vertical-align: middle;\n",
       "    }\n",
       "\n",
       "    .dataframe tbody tr th {\n",
       "        vertical-align: top;\n",
       "    }\n",
       "\n",
       "    .dataframe thead th {\n",
       "        text-align: right;\n",
       "    }\n",
       "</style>\n",
       "<table border=\"1\" class=\"dataframe\">\n",
       "  <thead>\n",
       "    <tr style=\"text-align: right;\">\n",
       "      <th>Age</th>\n",
       "      <th>0-17</th>\n",
       "      <th>18-25</th>\n",
       "      <th>26-35</th>\n",
       "      <th>36-45</th>\n",
       "      <th>46-50</th>\n",
       "      <th>51-55</th>\n",
       "      <th>55+</th>\n",
       "      <th>All</th>\n",
       "    </tr>\n",
       "    <tr>\n",
       "      <th>Product_Category</th>\n",
       "      <th></th>\n",
       "      <th></th>\n",
       "      <th></th>\n",
       "      <th></th>\n",
       "      <th></th>\n",
       "      <th></th>\n",
       "      <th></th>\n",
       "      <th></th>\n",
       "    </tr>\n",
       "  </thead>\n",
       "  <tbody>\n",
       "    <tr>\n",
       "      <th>1</th>\n",
       "      <td>0.651738</td>\n",
       "      <td>4.901576</td>\n",
       "      <td>10.589418</td>\n",
       "      <td>5.026288</td>\n",
       "      <td>1.904128</td>\n",
       "      <td>1.645069</td>\n",
       "      <td>0.801901</td>\n",
       "      <td>25.520118</td>\n",
       "    </tr>\n",
       "    <tr>\n",
       "      <th>2</th>\n",
       "      <td>0.146346</td>\n",
       "      <td>0.804991</td>\n",
       "      <td>1.623072</td>\n",
       "      <td>0.892981</td>\n",
       "      <td>0.382680</td>\n",
       "      <td>0.323778</td>\n",
       "      <td>0.164525</td>\n",
       "      <td>4.338373</td>\n",
       "    </tr>\n",
       "    <tr>\n",
       "      <th>3</th>\n",
       "      <td>0.218155</td>\n",
       "      <td>0.856258</td>\n",
       "      <td>1.392919</td>\n",
       "      <td>0.700641</td>\n",
       "      <td>0.250151</td>\n",
       "      <td>0.167979</td>\n",
       "      <td>0.088535</td>\n",
       "      <td>3.674637</td>\n",
       "    </tr>\n",
       "    <tr>\n",
       "      <th>4</th>\n",
       "      <td>0.137801</td>\n",
       "      <td>0.447763</td>\n",
       "      <td>0.762088</td>\n",
       "      <td>0.427947</td>\n",
       "      <td>0.179978</td>\n",
       "      <td>0.123257</td>\n",
       "      <td>0.057811</td>\n",
       "      <td>2.136645</td>\n",
       "    </tr>\n",
       "    <tr>\n",
       "      <th>5</th>\n",
       "      <td>0.787175</td>\n",
       "      <td>5.185177</td>\n",
       "      <td>11.175527</td>\n",
       "      <td>5.340612</td>\n",
       "      <td>2.176276</td>\n",
       "      <td>1.798505</td>\n",
       "      <td>0.975698</td>\n",
       "      <td>27.438971</td>\n",
       "    </tr>\n",
       "    <tr>\n",
       "      <th>6</th>\n",
       "      <td>0.072536</td>\n",
       "      <td>0.681552</td>\n",
       "      <td>1.542537</td>\n",
       "      <td>0.708821</td>\n",
       "      <td>0.294873</td>\n",
       "      <td>0.263604</td>\n",
       "      <td>0.156708</td>\n",
       "      <td>3.720631</td>\n",
       "    </tr>\n",
       "    <tr>\n",
       "      <th>7</th>\n",
       "      <td>0.009635</td>\n",
       "      <td>0.087444</td>\n",
       "      <td>0.300145</td>\n",
       "      <td>0.147073</td>\n",
       "      <td>0.059447</td>\n",
       "      <td>0.048358</td>\n",
       "      <td>0.024361</td>\n",
       "      <td>0.676462</td>\n",
       "    </tr>\n",
       "    <tr>\n",
       "      <th>8</th>\n",
       "      <td>0.410495</td>\n",
       "      <td>3.256143</td>\n",
       "      <td>8.045551</td>\n",
       "      <td>4.235113</td>\n",
       "      <td>1.937215</td>\n",
       "      <td>1.697972</td>\n",
       "      <td>1.128588</td>\n",
       "      <td>20.711076</td>\n",
       "    </tr>\n",
       "    <tr>\n",
       "      <th>9</th>\n",
       "      <td>0.002909</td>\n",
       "      <td>0.011453</td>\n",
       "      <td>0.027997</td>\n",
       "      <td>0.019452</td>\n",
       "      <td>0.005999</td>\n",
       "      <td>0.005272</td>\n",
       "      <td>0.001454</td>\n",
       "      <td>0.074536</td>\n",
       "    </tr>\n",
       "    <tr>\n",
       "      <th>10</th>\n",
       "      <td>0.020179</td>\n",
       "      <td>0.109623</td>\n",
       "      <td>0.324869</td>\n",
       "      <td>0.224518</td>\n",
       "      <td>0.094534</td>\n",
       "      <td>0.094352</td>\n",
       "      <td>0.063628</td>\n",
       "      <td>0.931703</td>\n",
       "    </tr>\n",
       "    <tr>\n",
       "      <th>11</th>\n",
       "      <td>0.134529</td>\n",
       "      <td>0.835715</td>\n",
       "      <td>1.795051</td>\n",
       "      <td>0.900434</td>\n",
       "      <td>0.382498</td>\n",
       "      <td>0.265058</td>\n",
       "      <td>0.101987</td>\n",
       "      <td>4.415272</td>\n",
       "    </tr>\n",
       "    <tr>\n",
       "      <th>12</th>\n",
       "      <td>0.022724</td>\n",
       "      <td>0.079808</td>\n",
       "      <td>0.199248</td>\n",
       "      <td>0.180705</td>\n",
       "      <td>0.094534</td>\n",
       "      <td>0.078718</td>\n",
       "      <td>0.061811</td>\n",
       "      <td>0.717548</td>\n",
       "    </tr>\n",
       "    <tr>\n",
       "      <th>13</th>\n",
       "      <td>0.020361</td>\n",
       "      <td>0.137438</td>\n",
       "      <td>0.381044</td>\n",
       "      <td>0.227245</td>\n",
       "      <td>0.100169</td>\n",
       "      <td>0.087807</td>\n",
       "      <td>0.054721</td>\n",
       "      <td>1.008784</td>\n",
       "    </tr>\n",
       "    <tr>\n",
       "      <th>14</th>\n",
       "      <td>0.007090</td>\n",
       "      <td>0.041813</td>\n",
       "      <td>0.102533</td>\n",
       "      <td>0.056720</td>\n",
       "      <td>0.027088</td>\n",
       "      <td>0.027997</td>\n",
       "      <td>0.013635</td>\n",
       "      <td>0.276875</td>\n",
       "    </tr>\n",
       "    <tr>\n",
       "      <th>15</th>\n",
       "      <td>0.029087</td>\n",
       "      <td>0.186159</td>\n",
       "      <td>0.431219</td>\n",
       "      <td>0.253605</td>\n",
       "      <td>0.109441</td>\n",
       "      <td>0.092352</td>\n",
       "      <td>0.041631</td>\n",
       "      <td>1.143495</td>\n",
       "    </tr>\n",
       "    <tr>\n",
       "      <th>16</th>\n",
       "      <td>0.041631</td>\n",
       "      <td>0.290510</td>\n",
       "      <td>0.748635</td>\n",
       "      <td>0.355411</td>\n",
       "      <td>0.159798</td>\n",
       "      <td>0.122167</td>\n",
       "      <td>0.068537</td>\n",
       "      <td>1.786688</td>\n",
       "    </tr>\n",
       "    <tr>\n",
       "      <th>17</th>\n",
       "      <td>0.001091</td>\n",
       "      <td>0.007454</td>\n",
       "      <td>0.023088</td>\n",
       "      <td>0.024542</td>\n",
       "      <td>0.017271</td>\n",
       "      <td>0.019452</td>\n",
       "      <td>0.012180</td>\n",
       "      <td>0.105078</td>\n",
       "    </tr>\n",
       "    <tr>\n",
       "      <th>18</th>\n",
       "      <td>0.004908</td>\n",
       "      <td>0.061629</td>\n",
       "      <td>0.189431</td>\n",
       "      <td>0.127621</td>\n",
       "      <td>0.063810</td>\n",
       "      <td>0.076900</td>\n",
       "      <td>0.043813</td>\n",
       "      <td>0.568112</td>\n",
       "    </tr>\n",
       "    <tr>\n",
       "      <th>19</th>\n",
       "      <td>0.010726</td>\n",
       "      <td>0.049994</td>\n",
       "      <td>0.102351</td>\n",
       "      <td>0.058175</td>\n",
       "      <td>0.027088</td>\n",
       "      <td>0.024361</td>\n",
       "      <td>0.018725</td>\n",
       "      <td>0.291419</td>\n",
       "    </tr>\n",
       "    <tr>\n",
       "      <th>20</th>\n",
       "      <td>0.016362</td>\n",
       "      <td>0.085262</td>\n",
       "      <td>0.163253</td>\n",
       "      <td>0.091989</td>\n",
       "      <td>0.041268</td>\n",
       "      <td>0.036359</td>\n",
       "      <td>0.029087</td>\n",
       "      <td>0.463579</td>\n",
       "    </tr>\n",
       "    <tr>\n",
       "      <th>All</th>\n",
       "      <td>2.745479</td>\n",
       "      <td>18.117760</td>\n",
       "      <td>39.919974</td>\n",
       "      <td>19.999891</td>\n",
       "      <td>8.308246</td>\n",
       "      <td>6.999316</td>\n",
       "      <td>3.909335</td>\n",
       "      <td>100.000000</td>\n",
       "    </tr>\n",
       "  </tbody>\n",
       "</table>\n",
       "</div>"
      ],
      "text/plain": [
       "Age                   0-17      18-25      26-35      36-45     46-50  \\\n",
       "Product_Category                                                        \n",
       "1                 0.651738   4.901576  10.589418   5.026288  1.904128   \n",
       "2                 0.146346   0.804991   1.623072   0.892981  0.382680   \n",
       "3                 0.218155   0.856258   1.392919   0.700641  0.250151   \n",
       "4                 0.137801   0.447763   0.762088   0.427947  0.179978   \n",
       "5                 0.787175   5.185177  11.175527   5.340612  2.176276   \n",
       "6                 0.072536   0.681552   1.542537   0.708821  0.294873   \n",
       "7                 0.009635   0.087444   0.300145   0.147073  0.059447   \n",
       "8                 0.410495   3.256143   8.045551   4.235113  1.937215   \n",
       "9                 0.002909   0.011453   0.027997   0.019452  0.005999   \n",
       "10                0.020179   0.109623   0.324869   0.224518  0.094534   \n",
       "11                0.134529   0.835715   1.795051   0.900434  0.382498   \n",
       "12                0.022724   0.079808   0.199248   0.180705  0.094534   \n",
       "13                0.020361   0.137438   0.381044   0.227245  0.100169   \n",
       "14                0.007090   0.041813   0.102533   0.056720  0.027088   \n",
       "15                0.029087   0.186159   0.431219   0.253605  0.109441   \n",
       "16                0.041631   0.290510   0.748635   0.355411  0.159798   \n",
       "17                0.001091   0.007454   0.023088   0.024542  0.017271   \n",
       "18                0.004908   0.061629   0.189431   0.127621  0.063810   \n",
       "19                0.010726   0.049994   0.102351   0.058175  0.027088   \n",
       "20                0.016362   0.085262   0.163253   0.091989  0.041268   \n",
       "All               2.745479  18.117760  39.919974  19.999891  8.308246   \n",
       "\n",
       "Age                  51-55       55+         All  \n",
       "Product_Category                                  \n",
       "1                 1.645069  0.801901   25.520118  \n",
       "2                 0.323778  0.164525    4.338373  \n",
       "3                 0.167979  0.088535    3.674637  \n",
       "4                 0.123257  0.057811    2.136645  \n",
       "5                 1.798505  0.975698   27.438971  \n",
       "6                 0.263604  0.156708    3.720631  \n",
       "7                 0.048358  0.024361    0.676462  \n",
       "8                 1.697972  1.128588   20.711076  \n",
       "9                 0.005272  0.001454    0.074536  \n",
       "10                0.094352  0.063628    0.931703  \n",
       "11                0.265058  0.101987    4.415272  \n",
       "12                0.078718  0.061811    0.717548  \n",
       "13                0.087807  0.054721    1.008784  \n",
       "14                0.027997  0.013635    0.276875  \n",
       "15                0.092352  0.041631    1.143495  \n",
       "16                0.122167  0.068537    1.786688  \n",
       "17                0.019452  0.012180    0.105078  \n",
       "18                0.076900  0.043813    0.568112  \n",
       "19                0.024361  0.018725    0.291419  \n",
       "20                0.036359  0.029087    0.463579  \n",
       "All               6.999316  3.909335  100.000000  "
      ]
     },
     "execution_count": 47,
     "metadata": {},
     "output_type": "execute_result"
    }
   ],
   "source": [
    "pd.crosstab(index=wal[\"Product_Category\"],columns=wal[\"Age\"],margins=True,normalize=True)*100"
   ]
  },
  {
   "cell_type": "code",
   "execution_count": 48,
   "id": "59651857",
   "metadata": {},
   "outputs": [
    {
     "data": {
      "text/html": [
       "<div>\n",
       "<style scoped>\n",
       "    .dataframe tbody tr th:only-of-type {\n",
       "        vertical-align: middle;\n",
       "    }\n",
       "\n",
       "    .dataframe tbody tr th {\n",
       "        vertical-align: top;\n",
       "    }\n",
       "\n",
       "    .dataframe thead th {\n",
       "        text-align: right;\n",
       "    }\n",
       "</style>\n",
       "<table border=\"1\" class=\"dataframe\">\n",
       "  <thead>\n",
       "    <tr style=\"text-align: right;\">\n",
       "      <th>Marital_Status</th>\n",
       "      <th>0</th>\n",
       "      <th>1</th>\n",
       "      <th>All</th>\n",
       "    </tr>\n",
       "    <tr>\n",
       "      <th>Product_Category</th>\n",
       "      <th></th>\n",
       "      <th></th>\n",
       "      <th></th>\n",
       "    </tr>\n",
       "  </thead>\n",
       "  <tbody>\n",
       "    <tr>\n",
       "      <th>1</th>\n",
       "      <td>15.339013</td>\n",
       "      <td>10.181105</td>\n",
       "      <td>25.520118</td>\n",
       "    </tr>\n",
       "    <tr>\n",
       "      <th>2</th>\n",
       "      <td>2.570228</td>\n",
       "      <td>1.768145</td>\n",
       "      <td>4.338373</td>\n",
       "    </tr>\n",
       "    <tr>\n",
       "      <th>3</th>\n",
       "      <td>2.246813</td>\n",
       "      <td>1.427823</td>\n",
       "      <td>3.674637</td>\n",
       "    </tr>\n",
       "    <tr>\n",
       "      <th>4</th>\n",
       "      <td>1.304748</td>\n",
       "      <td>0.831897</td>\n",
       "      <td>2.136645</td>\n",
       "    </tr>\n",
       "    <tr>\n",
       "      <th>5</th>\n",
       "      <td>16.299076</td>\n",
       "      <td>11.139895</td>\n",
       "      <td>27.438971</td>\n",
       "    </tr>\n",
       "    <tr>\n",
       "      <th>6</th>\n",
       "      <td>2.206818</td>\n",
       "      <td>1.513813</td>\n",
       "      <td>3.720631</td>\n",
       "    </tr>\n",
       "    <tr>\n",
       "      <th>7</th>\n",
       "      <td>0.370863</td>\n",
       "      <td>0.305599</td>\n",
       "      <td>0.676462</td>\n",
       "    </tr>\n",
       "    <tr>\n",
       "      <th>8</th>\n",
       "      <td>11.891439</td>\n",
       "      <td>8.819637</td>\n",
       "      <td>20.711076</td>\n",
       "    </tr>\n",
       "    <tr>\n",
       "      <th>9</th>\n",
       "      <td>0.044904</td>\n",
       "      <td>0.029633</td>\n",
       "      <td>0.074536</td>\n",
       "    </tr>\n",
       "    <tr>\n",
       "      <th>10</th>\n",
       "      <td>0.505028</td>\n",
       "      <td>0.426675</td>\n",
       "      <td>0.931703</td>\n",
       "    </tr>\n",
       "    <tr>\n",
       "      <th>11</th>\n",
       "      <td>2.666579</td>\n",
       "      <td>1.748693</td>\n",
       "      <td>4.415272</td>\n",
       "    </tr>\n",
       "    <tr>\n",
       "      <th>12</th>\n",
       "      <td>0.369772</td>\n",
       "      <td>0.347775</td>\n",
       "      <td>0.717548</td>\n",
       "    </tr>\n",
       "    <tr>\n",
       "      <th>13</th>\n",
       "      <td>0.574838</td>\n",
       "      <td>0.433946</td>\n",
       "      <td>1.008784</td>\n",
       "    </tr>\n",
       "    <tr>\n",
       "      <th>14</th>\n",
       "      <td>0.153799</td>\n",
       "      <td>0.123076</td>\n",
       "      <td>0.276875</td>\n",
       "    </tr>\n",
       "    <tr>\n",
       "      <th>15</th>\n",
       "      <td>0.658646</td>\n",
       "      <td>0.484849</td>\n",
       "      <td>1.143495</td>\n",
       "    </tr>\n",
       "    <tr>\n",
       "      <th>16</th>\n",
       "      <td>1.038599</td>\n",
       "      <td>0.748089</td>\n",
       "      <td>1.786688</td>\n",
       "    </tr>\n",
       "    <tr>\n",
       "      <th>17</th>\n",
       "      <td>0.054175</td>\n",
       "      <td>0.050903</td>\n",
       "      <td>0.105078</td>\n",
       "    </tr>\n",
       "    <tr>\n",
       "      <th>18</th>\n",
       "      <td>0.298327</td>\n",
       "      <td>0.269785</td>\n",
       "      <td>0.568112</td>\n",
       "    </tr>\n",
       "    <tr>\n",
       "      <th>19</th>\n",
       "      <td>0.171979</td>\n",
       "      <td>0.119440</td>\n",
       "      <td>0.291419</td>\n",
       "    </tr>\n",
       "    <tr>\n",
       "      <th>20</th>\n",
       "      <td>0.269058</td>\n",
       "      <td>0.194521</td>\n",
       "      <td>0.463579</td>\n",
       "    </tr>\n",
       "    <tr>\n",
       "      <th>All</th>\n",
       "      <td>59.034701</td>\n",
       "      <td>40.965299</td>\n",
       "      <td>100.000000</td>\n",
       "    </tr>\n",
       "  </tbody>\n",
       "</table>\n",
       "</div>"
      ],
      "text/plain": [
       "Marital_Status            0          1         All\n",
       "Product_Category                                  \n",
       "1                 15.339013  10.181105   25.520118\n",
       "2                  2.570228   1.768145    4.338373\n",
       "3                  2.246813   1.427823    3.674637\n",
       "4                  1.304748   0.831897    2.136645\n",
       "5                 16.299076  11.139895   27.438971\n",
       "6                  2.206818   1.513813    3.720631\n",
       "7                  0.370863   0.305599    0.676462\n",
       "8                 11.891439   8.819637   20.711076\n",
       "9                  0.044904   0.029633    0.074536\n",
       "10                 0.505028   0.426675    0.931703\n",
       "11                 2.666579   1.748693    4.415272\n",
       "12                 0.369772   0.347775    0.717548\n",
       "13                 0.574838   0.433946    1.008784\n",
       "14                 0.153799   0.123076    0.276875\n",
       "15                 0.658646   0.484849    1.143495\n",
       "16                 1.038599   0.748089    1.786688\n",
       "17                 0.054175   0.050903    0.105078\n",
       "18                 0.298327   0.269785    0.568112\n",
       "19                 0.171979   0.119440    0.291419\n",
       "20                 0.269058   0.194521    0.463579\n",
       "All               59.034701  40.965299  100.000000"
      ]
     },
     "execution_count": 48,
     "metadata": {},
     "output_type": "execute_result"
    }
   ],
   "source": [
    "pd.crosstab(index=wal[\"Product_Category\"],columns=wal[\"Marital_Status\"],margins=True,normalize=True)*100"
   ]
  },
  {
   "cell_type": "code",
   "execution_count": 49,
   "id": "59fe210a",
   "metadata": {},
   "outputs": [
    {
     "data": {
      "text/html": [
       "<div>\n",
       "<style scoped>\n",
       "    .dataframe tbody tr th:only-of-type {\n",
       "        vertical-align: middle;\n",
       "    }\n",
       "\n",
       "    .dataframe tbody tr th {\n",
       "        vertical-align: top;\n",
       "    }\n",
       "\n",
       "    .dataframe thead th {\n",
       "        text-align: right;\n",
       "    }\n",
       "</style>\n",
       "<table border=\"1\" class=\"dataframe\">\n",
       "  <thead>\n",
       "    <tr style=\"text-align: right;\">\n",
       "      <th>City_Category</th>\n",
       "      <th>A</th>\n",
       "      <th>B</th>\n",
       "      <th>C</th>\n",
       "      <th>All</th>\n",
       "    </tr>\n",
       "    <tr>\n",
       "      <th>Product_Category</th>\n",
       "      <th></th>\n",
       "      <th></th>\n",
       "      <th></th>\n",
       "      <th></th>\n",
       "    </tr>\n",
       "  </thead>\n",
       "  <tbody>\n",
       "    <tr>\n",
       "      <th>1</th>\n",
       "      <td>6.377575</td>\n",
       "      <td>10.590145</td>\n",
       "      <td>8.552397</td>\n",
       "      <td>25.520118</td>\n",
       "    </tr>\n",
       "    <tr>\n",
       "      <th>2</th>\n",
       "      <td>1.116407</td>\n",
       "      <td>1.898674</td>\n",
       "      <td>1.323291</td>\n",
       "      <td>4.338373</td>\n",
       "    </tr>\n",
       "    <tr>\n",
       "      <th>3</th>\n",
       "      <td>0.898616</td>\n",
       "      <td>1.561080</td>\n",
       "      <td>1.214941</td>\n",
       "      <td>3.674637</td>\n",
       "    </tr>\n",
       "    <tr>\n",
       "      <th>4</th>\n",
       "      <td>0.554477</td>\n",
       "      <td>0.950064</td>\n",
       "      <td>0.632104</td>\n",
       "      <td>2.136645</td>\n",
       "    </tr>\n",
       "    <tr>\n",
       "      <th>5</th>\n",
       "      <td>7.673779</td>\n",
       "      <td>11.660013</td>\n",
       "      <td>8.105180</td>\n",
       "      <td>27.438971</td>\n",
       "    </tr>\n",
       "    <tr>\n",
       "      <th>6</th>\n",
       "      <td>1.001149</td>\n",
       "      <td>1.549990</td>\n",
       "      <td>1.169492</td>\n",
       "      <td>3.720631</td>\n",
       "    </tr>\n",
       "    <tr>\n",
       "      <th>7</th>\n",
       "      <td>0.222882</td>\n",
       "      <td>0.290691</td>\n",
       "      <td>0.162889</td>\n",
       "      <td>0.676462</td>\n",
       "    </tr>\n",
       "    <tr>\n",
       "      <th>8</th>\n",
       "      <td>5.850004</td>\n",
       "      <td>8.644931</td>\n",
       "      <td>6.216141</td>\n",
       "      <td>20.711076</td>\n",
       "    </tr>\n",
       "    <tr>\n",
       "      <th>9</th>\n",
       "      <td>0.019998</td>\n",
       "      <td>0.031632</td>\n",
       "      <td>0.022906</td>\n",
       "      <td>0.074536</td>\n",
       "    </tr>\n",
       "    <tr>\n",
       "      <th>10</th>\n",
       "      <td>0.242334</td>\n",
       "      <td>0.375045</td>\n",
       "      <td>0.314325</td>\n",
       "      <td>0.931703</td>\n",
       "    </tr>\n",
       "    <tr>\n",
       "      <th>11</th>\n",
       "      <td>1.200033</td>\n",
       "      <td>1.906128</td>\n",
       "      <td>1.309111</td>\n",
       "      <td>4.415272</td>\n",
       "    </tr>\n",
       "    <tr>\n",
       "      <th>12</th>\n",
       "      <td>0.193249</td>\n",
       "      <td>0.304508</td>\n",
       "      <td>0.219791</td>\n",
       "      <td>0.717548</td>\n",
       "    </tr>\n",
       "    <tr>\n",
       "      <th>13</th>\n",
       "      <td>0.293418</td>\n",
       "      <td>0.412858</td>\n",
       "      <td>0.302508</td>\n",
       "      <td>1.008784</td>\n",
       "    </tr>\n",
       "    <tr>\n",
       "      <th>14</th>\n",
       "      <td>0.087444</td>\n",
       "      <td>0.114895</td>\n",
       "      <td>0.074536</td>\n",
       "      <td>0.276875</td>\n",
       "    </tr>\n",
       "    <tr>\n",
       "      <th>15</th>\n",
       "      <td>0.312143</td>\n",
       "      <td>0.479577</td>\n",
       "      <td>0.351775</td>\n",
       "      <td>1.143495</td>\n",
       "    </tr>\n",
       "    <tr>\n",
       "      <th>16</th>\n",
       "      <td>0.517754</td>\n",
       "      <td>0.734091</td>\n",
       "      <td>0.534843</td>\n",
       "      <td>1.786688</td>\n",
       "    </tr>\n",
       "    <tr>\n",
       "      <th>17</th>\n",
       "      <td>0.021997</td>\n",
       "      <td>0.048539</td>\n",
       "      <td>0.034541</td>\n",
       "      <td>0.105078</td>\n",
       "    </tr>\n",
       "    <tr>\n",
       "      <th>18</th>\n",
       "      <td>0.136892</td>\n",
       "      <td>0.252514</td>\n",
       "      <td>0.178705</td>\n",
       "      <td>0.568112</td>\n",
       "    </tr>\n",
       "    <tr>\n",
       "      <th>19</th>\n",
       "      <td>0.049630</td>\n",
       "      <td>0.083990</td>\n",
       "      <td>0.157799</td>\n",
       "      <td>0.291419</td>\n",
       "    </tr>\n",
       "    <tr>\n",
       "      <th>20</th>\n",
       "      <td>0.085080</td>\n",
       "      <td>0.136892</td>\n",
       "      <td>0.241606</td>\n",
       "      <td>0.463579</td>\n",
       "    </tr>\n",
       "    <tr>\n",
       "      <th>All</th>\n",
       "      <td>26.854862</td>\n",
       "      <td>42.026259</td>\n",
       "      <td>31.118880</td>\n",
       "      <td>100.000000</td>\n",
       "    </tr>\n",
       "  </tbody>\n",
       "</table>\n",
       "</div>"
      ],
      "text/plain": [
       "City_Category             A          B          C         All\n",
       "Product_Category                                             \n",
       "1                  6.377575  10.590145   8.552397   25.520118\n",
       "2                  1.116407   1.898674   1.323291    4.338373\n",
       "3                  0.898616   1.561080   1.214941    3.674637\n",
       "4                  0.554477   0.950064   0.632104    2.136645\n",
       "5                  7.673779  11.660013   8.105180   27.438971\n",
       "6                  1.001149   1.549990   1.169492    3.720631\n",
       "7                  0.222882   0.290691   0.162889    0.676462\n",
       "8                  5.850004   8.644931   6.216141   20.711076\n",
       "9                  0.019998   0.031632   0.022906    0.074536\n",
       "10                 0.242334   0.375045   0.314325    0.931703\n",
       "11                 1.200033   1.906128   1.309111    4.415272\n",
       "12                 0.193249   0.304508   0.219791    0.717548\n",
       "13                 0.293418   0.412858   0.302508    1.008784\n",
       "14                 0.087444   0.114895   0.074536    0.276875\n",
       "15                 0.312143   0.479577   0.351775    1.143495\n",
       "16                 0.517754   0.734091   0.534843    1.786688\n",
       "17                 0.021997   0.048539   0.034541    0.105078\n",
       "18                 0.136892   0.252514   0.178705    0.568112\n",
       "19                 0.049630   0.083990   0.157799    0.291419\n",
       "20                 0.085080   0.136892   0.241606    0.463579\n",
       "All               26.854862  42.026259  31.118880  100.000000"
      ]
     },
     "execution_count": 49,
     "metadata": {},
     "output_type": "execute_result"
    }
   ],
   "source": [
    "pd.crosstab(index=wal[\"Product_Category\"],columns=wal[\"City_Category\"],margins=True,normalize=True)*100"
   ]
  },
  {
   "cell_type": "code",
   "execution_count": 50,
   "id": "faee44db",
   "metadata": {},
   "outputs": [
    {
     "data": {
      "text/html": [
       "<div>\n",
       "<style scoped>\n",
       "    .dataframe tbody tr th:only-of-type {\n",
       "        vertical-align: middle;\n",
       "    }\n",
       "\n",
       "    .dataframe tbody tr th {\n",
       "        vertical-align: top;\n",
       "    }\n",
       "\n",
       "    .dataframe thead th {\n",
       "        text-align: right;\n",
       "    }\n",
       "</style>\n",
       "<table border=\"1\" class=\"dataframe\">\n",
       "  <thead>\n",
       "    <tr style=\"text-align: right;\">\n",
       "      <th></th>\n",
       "      <th>User_ID</th>\n",
       "      <th>Product_ID</th>\n",
       "      <th>Gender</th>\n",
       "      <th>Age</th>\n",
       "      <th>Occupation</th>\n",
       "      <th>City_Category</th>\n",
       "      <th>Stay_In_Current_City_Years</th>\n",
       "      <th>Marital_Status</th>\n",
       "      <th>Product_Category</th>\n",
       "      <th>Purchase</th>\n",
       "    </tr>\n",
       "  </thead>\n",
       "  <tbody>\n",
       "    <tr>\n",
       "      <th>4</th>\n",
       "      <td>1000002</td>\n",
       "      <td>P00285442</td>\n",
       "      <td>M</td>\n",
       "      <td>55+</td>\n",
       "      <td>16</td>\n",
       "      <td>C</td>\n",
       "      <td>4+</td>\n",
       "      <td>0</td>\n",
       "      <td>8</td>\n",
       "      <td>7969</td>\n",
       "    </tr>\n",
       "    <tr>\n",
       "      <th>5</th>\n",
       "      <td>1000003</td>\n",
       "      <td>P00193542</td>\n",
       "      <td>M</td>\n",
       "      <td>26-35</td>\n",
       "      <td>15</td>\n",
       "      <td>A</td>\n",
       "      <td>3</td>\n",
       "      <td>0</td>\n",
       "      <td>1</td>\n",
       "      <td>15227</td>\n",
       "    </tr>\n",
       "    <tr>\n",
       "      <th>6</th>\n",
       "      <td>1000004</td>\n",
       "      <td>P00184942</td>\n",
       "      <td>M</td>\n",
       "      <td>46-50</td>\n",
       "      <td>7</td>\n",
       "      <td>B</td>\n",
       "      <td>2</td>\n",
       "      <td>1</td>\n",
       "      <td>1</td>\n",
       "      <td>19215</td>\n",
       "    </tr>\n",
       "    <tr>\n",
       "      <th>7</th>\n",
       "      <td>1000004</td>\n",
       "      <td>P00346142</td>\n",
       "      <td>M</td>\n",
       "      <td>46-50</td>\n",
       "      <td>7</td>\n",
       "      <td>B</td>\n",
       "      <td>2</td>\n",
       "      <td>1</td>\n",
       "      <td>1</td>\n",
       "      <td>15854</td>\n",
       "    </tr>\n",
       "    <tr>\n",
       "      <th>8</th>\n",
       "      <td>1000004</td>\n",
       "      <td>P0097242</td>\n",
       "      <td>M</td>\n",
       "      <td>46-50</td>\n",
       "      <td>7</td>\n",
       "      <td>B</td>\n",
       "      <td>2</td>\n",
       "      <td>1</td>\n",
       "      <td>1</td>\n",
       "      <td>15686</td>\n",
       "    </tr>\n",
       "    <tr>\n",
       "      <th>...</th>\n",
       "      <td>...</td>\n",
       "      <td>...</td>\n",
       "      <td>...</td>\n",
       "      <td>...</td>\n",
       "      <td>...</td>\n",
       "      <td>...</td>\n",
       "      <td>...</td>\n",
       "      <td>...</td>\n",
       "      <td>...</td>\n",
       "      <td>...</td>\n",
       "    </tr>\n",
       "    <tr>\n",
       "      <th>550057</th>\n",
       "      <td>1006023</td>\n",
       "      <td>P00370853</td>\n",
       "      <td>M</td>\n",
       "      <td>26-35</td>\n",
       "      <td>0</td>\n",
       "      <td>C</td>\n",
       "      <td>2</td>\n",
       "      <td>1</td>\n",
       "      <td>19</td>\n",
       "      <td>61</td>\n",
       "    </tr>\n",
       "    <tr>\n",
       "      <th>550058</th>\n",
       "      <td>1006024</td>\n",
       "      <td>P00372445</td>\n",
       "      <td>M</td>\n",
       "      <td>26-35</td>\n",
       "      <td>12</td>\n",
       "      <td>A</td>\n",
       "      <td>0</td>\n",
       "      <td>1</td>\n",
       "      <td>20</td>\n",
       "      <td>121</td>\n",
       "    </tr>\n",
       "    <tr>\n",
       "      <th>550060</th>\n",
       "      <td>1006026</td>\n",
       "      <td>P00371644</td>\n",
       "      <td>M</td>\n",
       "      <td>36-45</td>\n",
       "      <td>6</td>\n",
       "      <td>C</td>\n",
       "      <td>1</td>\n",
       "      <td>1</td>\n",
       "      <td>20</td>\n",
       "      <td>494</td>\n",
       "    </tr>\n",
       "    <tr>\n",
       "      <th>550062</th>\n",
       "      <td>1006032</td>\n",
       "      <td>P00372445</td>\n",
       "      <td>M</td>\n",
       "      <td>46-50</td>\n",
       "      <td>7</td>\n",
       "      <td>A</td>\n",
       "      <td>3</td>\n",
       "      <td>0</td>\n",
       "      <td>20</td>\n",
       "      <td>473</td>\n",
       "    </tr>\n",
       "    <tr>\n",
       "      <th>550063</th>\n",
       "      <td>1006033</td>\n",
       "      <td>P00372445</td>\n",
       "      <td>M</td>\n",
       "      <td>51-55</td>\n",
       "      <td>13</td>\n",
       "      <td>B</td>\n",
       "      <td>1</td>\n",
       "      <td>1</td>\n",
       "      <td>20</td>\n",
       "      <td>368</td>\n",
       "    </tr>\n",
       "  </tbody>\n",
       "</table>\n",
       "<p>414259 rows × 10 columns</p>\n",
       "</div>"
      ],
      "text/plain": [
       "        User_ID Product_ID Gender    Age  Occupation City_Category  \\\n",
       "4       1000002  P00285442      M    55+          16             C   \n",
       "5       1000003  P00193542      M  26-35          15             A   \n",
       "6       1000004  P00184942      M  46-50           7             B   \n",
       "7       1000004  P00346142      M  46-50           7             B   \n",
       "8       1000004   P0097242      M  46-50           7             B   \n",
       "...         ...        ...    ...    ...         ...           ...   \n",
       "550057  1006023  P00370853      M  26-35           0             C   \n",
       "550058  1006024  P00372445      M  26-35          12             A   \n",
       "550060  1006026  P00371644      M  36-45           6             C   \n",
       "550062  1006032  P00372445      M  46-50           7             A   \n",
       "550063  1006033  P00372445      M  51-55          13             B   \n",
       "\n",
       "       Stay_In_Current_City_Years  Marital_Status  Product_Category  Purchase  \n",
       "4                              4+               0                 8      7969  \n",
       "5                               3               0                 1     15227  \n",
       "6                               2               1                 1     19215  \n",
       "7                               2               1                 1     15854  \n",
       "8                               2               1                 1     15686  \n",
       "...                           ...             ...               ...       ...  \n",
       "550057                          2               1                19        61  \n",
       "550058                          0               1                20       121  \n",
       "550060                          1               1                20       494  \n",
       "550062                          3               0                20       473  \n",
       "550063                          1               1                20       368  \n",
       "\n",
       "[414259 rows x 10 columns]"
      ]
     },
     "execution_count": 50,
     "metadata": {},
     "output_type": "execute_result"
    }
   ],
   "source": [
    "wal_male=wal[wal[\"Gender\"]==\"M\"]\n",
    "wal_male"
   ]
  },
  {
   "cell_type": "code",
   "execution_count": 51,
   "id": "3977906a",
   "metadata": {},
   "outputs": [
    {
     "data": {
      "text/html": [
       "<div>\n",
       "<style scoped>\n",
       "    .dataframe tbody tr th:only-of-type {\n",
       "        vertical-align: middle;\n",
       "    }\n",
       "\n",
       "    .dataframe tbody tr th {\n",
       "        vertical-align: top;\n",
       "    }\n",
       "\n",
       "    .dataframe thead th {\n",
       "        text-align: right;\n",
       "    }\n",
       "</style>\n",
       "<table border=\"1\" class=\"dataframe\">\n",
       "  <thead>\n",
       "    <tr style=\"text-align: right;\">\n",
       "      <th></th>\n",
       "      <th>User_ID</th>\n",
       "      <th>Product_ID</th>\n",
       "      <th>Gender</th>\n",
       "      <th>Age</th>\n",
       "      <th>Occupation</th>\n",
       "      <th>City_Category</th>\n",
       "      <th>Stay_In_Current_City_Years</th>\n",
       "      <th>Marital_Status</th>\n",
       "      <th>Product_Category</th>\n",
       "      <th>Purchase</th>\n",
       "    </tr>\n",
       "  </thead>\n",
       "  <tbody>\n",
       "    <tr>\n",
       "      <th>0</th>\n",
       "      <td>1000001</td>\n",
       "      <td>P00069042</td>\n",
       "      <td>F</td>\n",
       "      <td>0-17</td>\n",
       "      <td>10</td>\n",
       "      <td>A</td>\n",
       "      <td>2</td>\n",
       "      <td>0</td>\n",
       "      <td>3</td>\n",
       "      <td>8370</td>\n",
       "    </tr>\n",
       "    <tr>\n",
       "      <th>1</th>\n",
       "      <td>1000001</td>\n",
       "      <td>P00248942</td>\n",
       "      <td>F</td>\n",
       "      <td>0-17</td>\n",
       "      <td>10</td>\n",
       "      <td>A</td>\n",
       "      <td>2</td>\n",
       "      <td>0</td>\n",
       "      <td>1</td>\n",
       "      <td>15200</td>\n",
       "    </tr>\n",
       "    <tr>\n",
       "      <th>2</th>\n",
       "      <td>1000001</td>\n",
       "      <td>P00087842</td>\n",
       "      <td>F</td>\n",
       "      <td>0-17</td>\n",
       "      <td>10</td>\n",
       "      <td>A</td>\n",
       "      <td>2</td>\n",
       "      <td>0</td>\n",
       "      <td>12</td>\n",
       "      <td>1422</td>\n",
       "    </tr>\n",
       "    <tr>\n",
       "      <th>3</th>\n",
       "      <td>1000001</td>\n",
       "      <td>P00085442</td>\n",
       "      <td>F</td>\n",
       "      <td>0-17</td>\n",
       "      <td>10</td>\n",
       "      <td>A</td>\n",
       "      <td>2</td>\n",
       "      <td>0</td>\n",
       "      <td>12</td>\n",
       "      <td>1057</td>\n",
       "    </tr>\n",
       "    <tr>\n",
       "      <th>14</th>\n",
       "      <td>1000006</td>\n",
       "      <td>P00231342</td>\n",
       "      <td>F</td>\n",
       "      <td>51-55</td>\n",
       "      <td>9</td>\n",
       "      <td>A</td>\n",
       "      <td>1</td>\n",
       "      <td>0</td>\n",
       "      <td>5</td>\n",
       "      <td>5378</td>\n",
       "    </tr>\n",
       "    <tr>\n",
       "      <th>...</th>\n",
       "      <td>...</td>\n",
       "      <td>...</td>\n",
       "      <td>...</td>\n",
       "      <td>...</td>\n",
       "      <td>...</td>\n",
       "      <td>...</td>\n",
       "      <td>...</td>\n",
       "      <td>...</td>\n",
       "      <td>...</td>\n",
       "      <td>...</td>\n",
       "    </tr>\n",
       "    <tr>\n",
       "      <th>550061</th>\n",
       "      <td>1006029</td>\n",
       "      <td>P00372445</td>\n",
       "      <td>F</td>\n",
       "      <td>26-35</td>\n",
       "      <td>1</td>\n",
       "      <td>C</td>\n",
       "      <td>1</td>\n",
       "      <td>1</td>\n",
       "      <td>20</td>\n",
       "      <td>599</td>\n",
       "    </tr>\n",
       "    <tr>\n",
       "      <th>550064</th>\n",
       "      <td>1006035</td>\n",
       "      <td>P00375436</td>\n",
       "      <td>F</td>\n",
       "      <td>26-35</td>\n",
       "      <td>1</td>\n",
       "      <td>C</td>\n",
       "      <td>3</td>\n",
       "      <td>0</td>\n",
       "      <td>20</td>\n",
       "      <td>371</td>\n",
       "    </tr>\n",
       "    <tr>\n",
       "      <th>550065</th>\n",
       "      <td>1006036</td>\n",
       "      <td>P00375436</td>\n",
       "      <td>F</td>\n",
       "      <td>26-35</td>\n",
       "      <td>15</td>\n",
       "      <td>B</td>\n",
       "      <td>4+</td>\n",
       "      <td>1</td>\n",
       "      <td>20</td>\n",
       "      <td>137</td>\n",
       "    </tr>\n",
       "    <tr>\n",
       "      <th>550066</th>\n",
       "      <td>1006038</td>\n",
       "      <td>P00375436</td>\n",
       "      <td>F</td>\n",
       "      <td>55+</td>\n",
       "      <td>1</td>\n",
       "      <td>C</td>\n",
       "      <td>2</td>\n",
       "      <td>0</td>\n",
       "      <td>20</td>\n",
       "      <td>365</td>\n",
       "    </tr>\n",
       "    <tr>\n",
       "      <th>550067</th>\n",
       "      <td>1006039</td>\n",
       "      <td>P00371644</td>\n",
       "      <td>F</td>\n",
       "      <td>46-50</td>\n",
       "      <td>0</td>\n",
       "      <td>B</td>\n",
       "      <td>4+</td>\n",
       "      <td>1</td>\n",
       "      <td>20</td>\n",
       "      <td>490</td>\n",
       "    </tr>\n",
       "  </tbody>\n",
       "</table>\n",
       "<p>135809 rows × 10 columns</p>\n",
       "</div>"
      ],
      "text/plain": [
       "        User_ID Product_ID Gender    Age  Occupation City_Category  \\\n",
       "0       1000001  P00069042      F   0-17          10             A   \n",
       "1       1000001  P00248942      F   0-17          10             A   \n",
       "2       1000001  P00087842      F   0-17          10             A   \n",
       "3       1000001  P00085442      F   0-17          10             A   \n",
       "14      1000006  P00231342      F  51-55           9             A   \n",
       "...         ...        ...    ...    ...         ...           ...   \n",
       "550061  1006029  P00372445      F  26-35           1             C   \n",
       "550064  1006035  P00375436      F  26-35           1             C   \n",
       "550065  1006036  P00375436      F  26-35          15             B   \n",
       "550066  1006038  P00375436      F    55+           1             C   \n",
       "550067  1006039  P00371644      F  46-50           0             B   \n",
       "\n",
       "       Stay_In_Current_City_Years  Marital_Status  Product_Category  Purchase  \n",
       "0                               2               0                 3      8370  \n",
       "1                               2               0                 1     15200  \n",
       "2                               2               0                12      1422  \n",
       "3                               2               0                12      1057  \n",
       "14                              1               0                 5      5378  \n",
       "...                           ...             ...               ...       ...  \n",
       "550061                          1               1                20       599  \n",
       "550064                          3               0                20       371  \n",
       "550065                         4+               1                20       137  \n",
       "550066                          2               0                20       365  \n",
       "550067                         4+               1                20       490  \n",
       "\n",
       "[135809 rows x 10 columns]"
      ]
     },
     "execution_count": 51,
     "metadata": {},
     "output_type": "execute_result"
    }
   ],
   "source": [
    "wal_female=wal[wal[\"Gender\"]==\"F\"]\n",
    "wal_female"
   ]
  },
  {
   "cell_type": "code",
   "execution_count": 52,
   "id": "d325da5e",
   "metadata": {},
   "outputs": [
    {
     "data": {
      "text/html": [
       "<div>\n",
       "<style scoped>\n",
       "    .dataframe tbody tr th:only-of-type {\n",
       "        vertical-align: middle;\n",
       "    }\n",
       "\n",
       "    .dataframe tbody tr th {\n",
       "        vertical-align: top;\n",
       "    }\n",
       "\n",
       "    .dataframe thead th {\n",
       "        text-align: right;\n",
       "    }\n",
       "</style>\n",
       "<table border=\"1\" class=\"dataframe\">\n",
       "  <thead>\n",
       "    <tr style=\"text-align: right;\">\n",
       "      <th></th>\n",
       "      <th>User_ID</th>\n",
       "      <th>Occupation</th>\n",
       "      <th>Marital_Status</th>\n",
       "      <th>Product_Category</th>\n",
       "      <th>Purchase</th>\n",
       "    </tr>\n",
       "  </thead>\n",
       "  <tbody>\n",
       "    <tr>\n",
       "      <th>count</th>\n",
       "      <td>4.142590e+05</td>\n",
       "      <td>414259.00000</td>\n",
       "      <td>414259.000000</td>\n",
       "      <td>414259.000000</td>\n",
       "      <td>414259.00000</td>\n",
       "    </tr>\n",
       "    <tr>\n",
       "      <th>mean</th>\n",
       "      <td>1.002996e+06</td>\n",
       "      <td>8.51475</td>\n",
       "      <td>0.406386</td>\n",
       "      <td>5.301512</td>\n",
       "      <td>9437.52604</td>\n",
       "    </tr>\n",
       "    <tr>\n",
       "      <th>std</th>\n",
       "      <td>1.706494e+03</td>\n",
       "      <td>6.55379</td>\n",
       "      <td>0.491159</td>\n",
       "      <td>4.006275</td>\n",
       "      <td>5092.18621</td>\n",
       "    </tr>\n",
       "    <tr>\n",
       "      <th>min</th>\n",
       "      <td>1.000002e+06</td>\n",
       "      <td>0.00000</td>\n",
       "      <td>0.000000</td>\n",
       "      <td>1.000000</td>\n",
       "      <td>12.00000</td>\n",
       "    </tr>\n",
       "    <tr>\n",
       "      <th>25%</th>\n",
       "      <td>1.001505e+06</td>\n",
       "      <td>3.00000</td>\n",
       "      <td>0.000000</td>\n",
       "      <td>1.000000</td>\n",
       "      <td>5863.00000</td>\n",
       "    </tr>\n",
       "    <tr>\n",
       "      <th>50%</th>\n",
       "      <td>1.003041e+06</td>\n",
       "      <td>7.00000</td>\n",
       "      <td>0.000000</td>\n",
       "      <td>5.000000</td>\n",
       "      <td>8098.00000</td>\n",
       "    </tr>\n",
       "    <tr>\n",
       "      <th>75%</th>\n",
       "      <td>1.004411e+06</td>\n",
       "      <td>15.00000</td>\n",
       "      <td>1.000000</td>\n",
       "      <td>8.000000</td>\n",
       "      <td>12454.00000</td>\n",
       "    </tr>\n",
       "    <tr>\n",
       "      <th>max</th>\n",
       "      <td>1.006040e+06</td>\n",
       "      <td>20.00000</td>\n",
       "      <td>1.000000</td>\n",
       "      <td>20.000000</td>\n",
       "      <td>23961.00000</td>\n",
       "    </tr>\n",
       "  </tbody>\n",
       "</table>\n",
       "</div>"
      ],
      "text/plain": [
       "            User_ID    Occupation  Marital_Status  Product_Category  \\\n",
       "count  4.142590e+05  414259.00000   414259.000000     414259.000000   \n",
       "mean   1.002996e+06       8.51475        0.406386          5.301512   \n",
       "std    1.706494e+03       6.55379        0.491159          4.006275   \n",
       "min    1.000002e+06       0.00000        0.000000          1.000000   \n",
       "25%    1.001505e+06       3.00000        0.000000          1.000000   \n",
       "50%    1.003041e+06       7.00000        0.000000          5.000000   \n",
       "75%    1.004411e+06      15.00000        1.000000          8.000000   \n",
       "max    1.006040e+06      20.00000        1.000000         20.000000   \n",
       "\n",
       "           Purchase  \n",
       "count  414259.00000  \n",
       "mean     9437.52604  \n",
       "std      5092.18621  \n",
       "min        12.00000  \n",
       "25%      5863.00000  \n",
       "50%      8098.00000  \n",
       "75%     12454.00000  \n",
       "max     23961.00000  "
      ]
     },
     "execution_count": 52,
     "metadata": {},
     "output_type": "execute_result"
    }
   ],
   "source": [
    "wal_male.describe()"
   ]
  },
  {
   "cell_type": "code",
   "execution_count": 53,
   "id": "cadbe7c1",
   "metadata": {},
   "outputs": [
    {
     "data": {
      "text/plain": [
       "9437.526040472265"
      ]
     },
     "execution_count": 53,
     "metadata": {},
     "output_type": "execute_result"
    }
   ],
   "source": [
    "wal_male[\"Purchase\"].mean()"
   ]
  },
  {
   "cell_type": "code",
   "execution_count": 60,
   "id": "0fb1cc4c",
   "metadata": {},
   "outputs": [
    {
     "data": {
      "text/plain": [
       "6532.6"
      ]
     },
     "execution_count": 60,
     "metadata": {},
     "output_type": "execute_result"
    }
   ],
   "source": [
    "np.mean(wal_male[\"Purchase\"].sample(5))"
   ]
  },
  {
   "cell_type": "code",
   "execution_count": 61,
   "id": "6437df79",
   "metadata": {},
   "outputs": [
    {
     "data": {
      "text/plain": [
       "9417.574233333333"
      ]
     },
     "execution_count": 61,
     "metadata": {},
     "output_type": "execute_result"
    }
   ],
   "source": [
    "np.mean(wal_male[\"Purchase\"].sample(30000))"
   ]
  },
  {
   "cell_type": "code",
   "execution_count": 91,
   "id": "861f8308",
   "metadata": {},
   "outputs": [],
   "source": [
    "sample_mean_male=[(np.mean(wal_male[\"Purchase\"].sample(30000))) for i in range(1000)]"
   ]
  },
  {
   "cell_type": "code",
   "execution_count": 92,
   "id": "3713ee3c",
   "metadata": {},
   "outputs": [
    {
     "data": {
      "text/plain": [
       "<AxesSubplot:ylabel='Count'>"
      ]
     },
     "execution_count": 92,
     "metadata": {},
     "output_type": "execute_result"
    },
    {
     "data": {
      "image/png": "[encoded data removed]",
      "text/plain": [
       "<Figure size 432x288 with 1 Axes>"
      ]
     },
     "metadata": {
      "needs_background": "light"
     },
     "output_type": "display_data"
    }
   ],
   "source": [
    "sns.histplot(sample_mean_male)"
   ]
  },
  {
   "cell_type": "code",
   "execution_count": 93,
   "id": "d6f6fae4",
   "metadata": {},
   "outputs": [
    {
     "data": {
      "text/plain": [
       "5092.180063635943"
      ]
     },
     "execution_count": 93,
     "metadata": {},
     "output_type": "execute_result"
    }
   ],
   "source": [
    "n=30000\n",
    "st_dev_male=np.std(wal_male[\"Purchase\"])\n",
    "st_dev_male"
   ]
  },
  {
   "cell_type": "code",
   "execution_count": 94,
   "id": "ea7a2137",
   "metadata": {},
   "outputs": [],
   "source": [
    "std_err_male=st_dev_male/np.sqrt(n)"
   ]
  },
  {
   "cell_type": "code",
   "execution_count": 95,
   "id": "90736ca1",
   "metadata": {},
   "outputs": [
    {
     "data": {
      "text/plain": [
       "(9389.161771649193, 9485.878228350808)"
      ]
     },
     "execution_count": 95,
     "metadata": {},
     "output_type": "execute_result"
    }
   ],
   "source": [
    "from scipy.stats import norm\n",
    "#for 90% confidence interval\n",
    "z=norm.ppf(0.95)\n",
    "x1=9437.52-z*std_err_male\n",
    "x2=9437.52+z*std_err_male\n",
    "x1,x2"
   ]
  },
  {
   "cell_type": "code",
   "execution_count": 73,
   "id": "13aa4923",
   "metadata": {},
   "outputs": [
    {
     "data": {
      "text/plain": [
       "8734.565765155476"
      ]
     },
     "execution_count": 73,
     "metadata": {},
     "output_type": "execute_result"
    }
   ],
   "source": [
    "# female analysis\n",
    "wal_female[\"Purchase\"].mean()"
   ]
  },
  {
   "cell_type": "code",
   "execution_count": 74,
   "id": "da4c7ceb",
   "metadata": {},
   "outputs": [
    {
     "data": {
      "text/html": [
       "<div>\n",
       "<style scoped>\n",
       "    .dataframe tbody tr th:only-of-type {\n",
       "        vertical-align: middle;\n",
       "    }\n",
       "\n",
       "    .dataframe tbody tr th {\n",
       "        vertical-align: top;\n",
       "    }\n",
       "\n",
       "    .dataframe thead th {\n",
       "        text-align: right;\n",
       "    }\n",
       "</style>\n",
       "<table border=\"1\" class=\"dataframe\">\n",
       "  <thead>\n",
       "    <tr style=\"text-align: right;\">\n",
       "      <th></th>\n",
       "      <th>User_ID</th>\n",
       "      <th>Occupation</th>\n",
       "      <th>Marital_Status</th>\n",
       "      <th>Product_Category</th>\n",
       "      <th>Purchase</th>\n",
       "    </tr>\n",
       "  </thead>\n",
       "  <tbody>\n",
       "    <tr>\n",
       "      <th>count</th>\n",
       "      <td>1.358090e+05</td>\n",
       "      <td>135809.000000</td>\n",
       "      <td>135809.000000</td>\n",
       "      <td>135809.000000</td>\n",
       "      <td>135809.000000</td>\n",
       "    </tr>\n",
       "    <tr>\n",
       "      <th>mean</th>\n",
       "      <td>1.003130e+06</td>\n",
       "      <td>6.740540</td>\n",
       "      <td>0.419619</td>\n",
       "      <td>5.717714</td>\n",
       "      <td>8734.565765</td>\n",
       "    </tr>\n",
       "    <tr>\n",
       "      <th>std</th>\n",
       "      <td>1.786631e+03</td>\n",
       "      <td>6.239639</td>\n",
       "      <td>0.493498</td>\n",
       "      <td>3.696752</td>\n",
       "      <td>4767.233289</td>\n",
       "    </tr>\n",
       "    <tr>\n",
       "      <th>min</th>\n",
       "      <td>1.000001e+06</td>\n",
       "      <td>0.000000</td>\n",
       "      <td>0.000000</td>\n",
       "      <td>1.000000</td>\n",
       "      <td>12.000000</td>\n",
       "    </tr>\n",
       "    <tr>\n",
       "      <th>25%</th>\n",
       "      <td>1.001569e+06</td>\n",
       "      <td>1.000000</td>\n",
       "      <td>0.000000</td>\n",
       "      <td>3.000000</td>\n",
       "      <td>5433.000000</td>\n",
       "    </tr>\n",
       "    <tr>\n",
       "      <th>50%</th>\n",
       "      <td>1.003159e+06</td>\n",
       "      <td>4.000000</td>\n",
       "      <td>0.000000</td>\n",
       "      <td>5.000000</td>\n",
       "      <td>7914.000000</td>\n",
       "    </tr>\n",
       "    <tr>\n",
       "      <th>75%</th>\n",
       "      <td>1.004765e+06</td>\n",
       "      <td>11.000000</td>\n",
       "      <td>1.000000</td>\n",
       "      <td>8.000000</td>\n",
       "      <td>11400.000000</td>\n",
       "    </tr>\n",
       "    <tr>\n",
       "      <th>max</th>\n",
       "      <td>1.006039e+06</td>\n",
       "      <td>20.000000</td>\n",
       "      <td>1.000000</td>\n",
       "      <td>20.000000</td>\n",
       "      <td>23959.000000</td>\n",
       "    </tr>\n",
       "  </tbody>\n",
       "</table>\n",
       "</div>"
      ],
      "text/plain": [
       "            User_ID     Occupation  Marital_Status  Product_Category  \\\n",
       "count  1.358090e+05  135809.000000   135809.000000     135809.000000   \n",
       "mean   1.003130e+06       6.740540        0.419619          5.717714   \n",
       "std    1.786631e+03       6.239639        0.493498          3.696752   \n",
       "min    1.000001e+06       0.000000        0.000000          1.000000   \n",
       "25%    1.001569e+06       1.000000        0.000000          3.000000   \n",
       "50%    1.003159e+06       4.000000        0.000000          5.000000   \n",
       "75%    1.004765e+06      11.000000        1.000000          8.000000   \n",
       "max    1.006039e+06      20.000000        1.000000         20.000000   \n",
       "\n",
       "            Purchase  \n",
       "count  135809.000000  \n",
       "mean     8734.565765  \n",
       "std      4767.233289  \n",
       "min        12.000000  \n",
       "25%      5433.000000  \n",
       "50%      7914.000000  \n",
       "75%     11400.000000  \n",
       "max     23959.000000  "
      ]
     },
     "execution_count": 74,
     "metadata": {},
     "output_type": "execute_result"
    }
   ],
   "source": [
    "wal_female.describe()"
   ]
  },
  {
   "cell_type": "code",
   "execution_count": 76,
   "id": "a5bf294d",
   "metadata": {},
   "outputs": [
    {
     "data": {
      "text/plain": [
       "8765.002833333334"
      ]
     },
     "execution_count": 76,
     "metadata": {},
     "output_type": "execute_result"
    }
   ],
   "source": [
    "np.mean(wal_female[\"Purchase\"].sample(30000))"
   ]
  },
  {
   "cell_type": "code",
   "execution_count": 77,
   "id": "5a0e7d1b",
   "metadata": {},
   "outputs": [],
   "source": [
    "sample_mean_female=[(np.mean(wal_female[\"Purchase\"].sample(30000))) for i in range(1000)]"
   ]
  },
  {
   "cell_type": "code",
   "execution_count": 78,
   "id": "be2c2a44",
   "metadata": {
    "scrolled": true
   },
   "outputs": [
    {
     "data": {
      "text/plain": [
       "<AxesSubplot:ylabel='Count'>"
      ]
     },
     "execution_count": 78,
     "metadata": {},
     "output_type": "execute_result"
    },
    {
     "data": {
      "image/png": "[encoded data removed]",
      "text/plain": [
       "<Figure size 432x288 with 1 Axes>"
      ]
     },
     "metadata": {
      "needs_background": "light"
     },
     "output_type": "display_data"
    }
   ],
   "source": [
    "sns.histplot(sample_mean_female)"
   ]
  },
  {
   "cell_type": "code",
   "execution_count": 79,
   "id": "8f1fc329",
   "metadata": {},
   "outputs": [
    {
     "data": {
      "text/plain": [
       "8734.801626200002"
      ]
     },
     "execution_count": 79,
     "metadata": {},
     "output_type": "execute_result"
    }
   ],
   "source": [
    "np.mean(sample_mean_female)"
   ]
  },
  {
   "cell_type": "code",
   "execution_count": 96,
   "id": "c65f35c9",
   "metadata": {},
   "outputs": [
    {
     "data": {
      "text/plain": [
       "(8689.527817089016, 8780.072182910983)"
      ]
     },
     "execution_count": 96,
     "metadata": {},
     "output_type": "execute_result"
    }
   ],
   "source": [
    "n=30000\n",
    "st_dev_female=np.std(wal_female[\"Purchase\"])\n",
    "std_err_female=st_dev_female/np.sqrt(n)\n",
    "#for 90% confidence interval\n",
    "z=norm.ppf(0.95)\n",
    "x1=8734.80-z*std_err_female\n",
    "x2=8734.80+z*std_err_female\n",
    "x1,x2"
   ]
  },
  {
   "cell_type": "code",
   "execution_count": null,
   "id": "be8bd417",
   "metadata": {},
   "outputs": [],
   "source": [
    "# for 95% confidence interval"
   ]
  },
  {
   "cell_type": "code",
   "execution_count": 97,
   "id": "259d89c9",
   "metadata": {},
   "outputs": [
    {
     "data": {
      "text/plain": [
       "(9379.897616846425, 9495.142383153576)"
      ]
     },
     "execution_count": 97,
     "metadata": {},
     "output_type": "execute_result"
    }
   ],
   "source": [
    "#for Males\n",
    "n=30000\n",
    "st_dev_male=np.std(wal_male[\"Purchase\"])\n",
    "std_err_male=st_dev_male/np.sqrt(n)\n",
    "#for 90% confidence interval\n",
    "z=norm.ppf(0.975)\n",
    "x1=9437.52-z*std_err_male\n",
    "x2=9437.52+z*std_err_male\n",
    "x1,x2"
   ]
  },
  {
   "cell_type": "code",
   "execution_count": 98,
   "id": "9500fbd6",
   "metadata": {},
   "outputs": [
    {
     "data": {
      "text/plain": [
       "(8680.854866795966, 8788.745133204033)"
      ]
     },
     "execution_count": 98,
     "metadata": {},
     "output_type": "execute_result"
    }
   ],
   "source": [
    "# for females\n",
    "n=30000\n",
    "st_dev_female=np.std(wal_female[\"Purchase\"])\n",
    "std_err_female=st_dev_female/np.sqrt(n)\n",
    "#for 90% confidence interval\n",
    "z=norm.ppf(0.975)\n",
    "x1=8734.80-z*std_err_female\n",
    "x2=8734.80+z*std_err_female\n",
    "x1,x2"
   ]
  },
  {
   "cell_type": "code",
   "execution_count": null,
   "id": "bf89cde6",
   "metadata": {},
   "outputs": [],
   "source": [
    "# for 99% confidence interval"
   ]
  },
  {
   "cell_type": "code",
   "execution_count": 99,
   "id": "19d21677",
   "metadata": {},
   "outputs": [
    {
     "data": {
      "text/plain": [
       "(9361.791351801328, 9513.248648198673)"
      ]
     },
     "execution_count": 99,
     "metadata": {},
     "output_type": "execute_result"
    }
   ],
   "source": [
    "#for Males\n",
    "n=30000\n",
    "st_dev_male=np.std(wal_male[\"Purchase\"])\n",
    "std_err_male=st_dev_male/np.sqrt(n)\n",
    "#for 90% confidence interval\n",
    "z=norm.ppf(0.995)\n",
    "x1=9437.52-z*std_err_male\n",
    "x2=9437.52+z*std_err_male\n",
    "x1,x2"
   ]
  },
  {
   "cell_type": "code",
   "execution_count": 100,
   "id": "70f1333f",
   "metadata": {},
   "outputs": [
    {
     "data": {
      "text/plain": [
       "(8680.854866795966, 8788.745133204033)"
      ]
     },
     "execution_count": 100,
     "metadata": {},
     "output_type": "execute_result"
    }
   ],
   "source": [
    "# for females\n",
    "n=30000\n",
    "st_dev_female=np.std(wal_female[\"Purchase\"])\n",
    "std_err_female=st_dev_female/np.sqrt(n)\n",
    "#for 90% confidence interval\n",
    "z=norm.ppf(0.975)\n",
    "x1=8734.80-z*std_err_female\n",
    "x2=8734.80+z*std_err_female\n",
    "x1,x2"
   ]
  },
  {
   "cell_type": "code",
   "execution_count": 106,
   "id": "9e9990e9",
   "metadata": {},
   "outputs": [
    {
     "data": {
      "text/html": [
       "<div>\n",
       "<style scoped>\n",
       "    .dataframe tbody tr th:only-of-type {\n",
       "        vertical-align: middle;\n",
       "    }\n",
       "\n",
       "    .dataframe tbody tr th {\n",
       "        vertical-align: top;\n",
       "    }\n",
       "\n",
       "    .dataframe thead th {\n",
       "        text-align: right;\n",
       "    }\n",
       "</style>\n",
       "<table border=\"1\" class=\"dataframe\">\n",
       "  <thead>\n",
       "    <tr style=\"text-align: right;\">\n",
       "      <th></th>\n",
       "      <th>User_ID</th>\n",
       "      <th>Occupation</th>\n",
       "      <th>Marital_Status</th>\n",
       "      <th>Product_Category</th>\n",
       "      <th>Purchase</th>\n",
       "    </tr>\n",
       "  </thead>\n",
       "  <tbody>\n",
       "    <tr>\n",
       "      <th>count</th>\n",
       "      <td>2.253370e+05</td>\n",
       "      <td>225337.000000</td>\n",
       "      <td>225337.0</td>\n",
       "      <td>225337.000000</td>\n",
       "      <td>225337.000000</td>\n",
       "    </tr>\n",
       "    <tr>\n",
       "      <th>mean</th>\n",
       "      <td>1.003071e+06</td>\n",
       "      <td>8.266823</td>\n",
       "      <td>1.0</td>\n",
       "      <td>5.498245</td>\n",
       "      <td>9261.174574</td>\n",
       "    </tr>\n",
       "    <tr>\n",
       "      <th>std</th>\n",
       "      <td>1.765091e+03</td>\n",
       "      <td>6.687118</td>\n",
       "      <td>0.0</td>\n",
       "      <td>3.968868</td>\n",
       "      <td>5016.897378</td>\n",
       "    </tr>\n",
       "    <tr>\n",
       "      <th>min</th>\n",
       "      <td>1.000004e+06</td>\n",
       "      <td>0.000000</td>\n",
       "      <td>1.0</td>\n",
       "      <td>1.000000</td>\n",
       "      <td>12.000000</td>\n",
       "    </tr>\n",
       "    <tr>\n",
       "      <th>25%</th>\n",
       "      <td>1.001506e+06</td>\n",
       "      <td>2.000000</td>\n",
       "      <td>1.0</td>\n",
       "      <td>2.000000</td>\n",
       "      <td>5843.000000</td>\n",
       "    </tr>\n",
       "    <tr>\n",
       "      <th>50%</th>\n",
       "      <td>1.003093e+06</td>\n",
       "      <td>7.000000</td>\n",
       "      <td>1.0</td>\n",
       "      <td>5.000000</td>\n",
       "      <td>8051.000000</td>\n",
       "    </tr>\n",
       "    <tr>\n",
       "      <th>75%</th>\n",
       "      <td>1.004647e+06</td>\n",
       "      <td>14.000000</td>\n",
       "      <td>1.0</td>\n",
       "      <td>8.000000</td>\n",
       "      <td>12042.000000</td>\n",
       "    </tr>\n",
       "    <tr>\n",
       "      <th>max</th>\n",
       "      <td>1.006039e+06</td>\n",
       "      <td>20.000000</td>\n",
       "      <td>1.0</td>\n",
       "      <td>20.000000</td>\n",
       "      <td>23961.000000</td>\n",
       "    </tr>\n",
       "  </tbody>\n",
       "</table>\n",
       "</div>"
      ],
      "text/plain": [
       "            User_ID     Occupation  Marital_Status  Product_Category  \\\n",
       "count  2.253370e+05  225337.000000        225337.0     225337.000000   \n",
       "mean   1.003071e+06       8.266823             1.0          5.498245   \n",
       "std    1.765091e+03       6.687118             0.0          3.968868   \n",
       "min    1.000004e+06       0.000000             1.0          1.000000   \n",
       "25%    1.001506e+06       2.000000             1.0          2.000000   \n",
       "50%    1.003093e+06       7.000000             1.0          5.000000   \n",
       "75%    1.004647e+06      14.000000             1.0          8.000000   \n",
       "max    1.006039e+06      20.000000             1.0         20.000000   \n",
       "\n",
       "            Purchase  \n",
       "count  225337.000000  \n",
       "mean     9261.174574  \n",
       "std      5016.897378  \n",
       "min        12.000000  \n",
       "25%      5843.000000  \n",
       "50%      8051.000000  \n",
       "75%     12042.000000  \n",
       "max     23961.000000  "
      ]
     },
     "execution_count": 106,
     "metadata": {},
     "output_type": "execute_result"
    }
   ],
   "source": [
    "#Analysis for Married and Unmarried\n",
    "wal_mar=wal[wal[\"Marital_Status\"]==1]\n",
    "wal_mar.describe()"
   ]
  },
  {
   "cell_type": "code",
   "execution_count": 107,
   "id": "4d2d178d",
   "metadata": {},
   "outputs": [
    {
     "data": {
      "text/html": [
       "<div>\n",
       "<style scoped>\n",
       "    .dataframe tbody tr th:only-of-type {\n",
       "        vertical-align: middle;\n",
       "    }\n",
       "\n",
       "    .dataframe tbody tr th {\n",
       "        vertical-align: top;\n",
       "    }\n",
       "\n",
       "    .dataframe thead th {\n",
       "        text-align: right;\n",
       "    }\n",
       "</style>\n",
       "<table border=\"1\" class=\"dataframe\">\n",
       "  <thead>\n",
       "    <tr style=\"text-align: right;\">\n",
       "      <th></th>\n",
       "      <th>User_ID</th>\n",
       "      <th>Occupation</th>\n",
       "      <th>Marital_Status</th>\n",
       "      <th>Product_Category</th>\n",
       "      <th>Purchase</th>\n",
       "    </tr>\n",
       "  </thead>\n",
       "  <tbody>\n",
       "    <tr>\n",
       "      <th>count</th>\n",
       "      <td>3.247310e+05</td>\n",
       "      <td>324731.000000</td>\n",
       "      <td>324731.0</td>\n",
       "      <td>324731.000000</td>\n",
       "      <td>324731.000000</td>\n",
       "    </tr>\n",
       "    <tr>\n",
       "      <th>mean</th>\n",
       "      <td>1.002999e+06</td>\n",
       "      <td>7.944782</td>\n",
       "      <td>0.0</td>\n",
       "      <td>5.339059</td>\n",
       "      <td>9265.907619</td>\n",
       "    </tr>\n",
       "    <tr>\n",
       "      <th>std</th>\n",
       "      <td>1.700466e+03</td>\n",
       "      <td>6.402753</td>\n",
       "      <td>0.0</td>\n",
       "      <td>3.912070</td>\n",
       "      <td>5027.347859</td>\n",
       "    </tr>\n",
       "    <tr>\n",
       "      <th>min</th>\n",
       "      <td>1.000001e+06</td>\n",
       "      <td>0.000000</td>\n",
       "      <td>0.0</td>\n",
       "      <td>1.000000</td>\n",
       "      <td>12.000000</td>\n",
       "    </tr>\n",
       "    <tr>\n",
       "      <th>25%</th>\n",
       "      <td>1.001524e+06</td>\n",
       "      <td>3.000000</td>\n",
       "      <td>0.0</td>\n",
       "      <td>1.000000</td>\n",
       "      <td>5605.000000</td>\n",
       "    </tr>\n",
       "    <tr>\n",
       "      <th>50%</th>\n",
       "      <td>1.003065e+06</td>\n",
       "      <td>7.000000</td>\n",
       "      <td>0.0</td>\n",
       "      <td>5.000000</td>\n",
       "      <td>8044.000000</td>\n",
       "    </tr>\n",
       "    <tr>\n",
       "      <th>75%</th>\n",
       "      <td>1.004386e+06</td>\n",
       "      <td>14.000000</td>\n",
       "      <td>0.0</td>\n",
       "      <td>8.000000</td>\n",
       "      <td>12061.000000</td>\n",
       "    </tr>\n",
       "    <tr>\n",
       "      <th>max</th>\n",
       "      <td>1.006040e+06</td>\n",
       "      <td>20.000000</td>\n",
       "      <td>0.0</td>\n",
       "      <td>20.000000</td>\n",
       "      <td>23961.000000</td>\n",
       "    </tr>\n",
       "  </tbody>\n",
       "</table>\n",
       "</div>"
      ],
      "text/plain": [
       "            User_ID     Occupation  Marital_Status  Product_Category  \\\n",
       "count  3.247310e+05  324731.000000        324731.0     324731.000000   \n",
       "mean   1.002999e+06       7.944782             0.0          5.339059   \n",
       "std    1.700466e+03       6.402753             0.0          3.912070   \n",
       "min    1.000001e+06       0.000000             0.0          1.000000   \n",
       "25%    1.001524e+06       3.000000             0.0          1.000000   \n",
       "50%    1.003065e+06       7.000000             0.0          5.000000   \n",
       "75%    1.004386e+06      14.000000             0.0          8.000000   \n",
       "max    1.006040e+06      20.000000             0.0         20.000000   \n",
       "\n",
       "            Purchase  \n",
       "count  324731.000000  \n",
       "mean     9265.907619  \n",
       "std      5027.347859  \n",
       "min        12.000000  \n",
       "25%      5605.000000  \n",
       "50%      8044.000000  \n",
       "75%     12061.000000  \n",
       "max     23961.000000  "
      ]
     },
     "execution_count": 107,
     "metadata": {},
     "output_type": "execute_result"
    }
   ],
   "source": [
    "wal_unmar=wal[wal[\"Marital_Status\"]==0]\n",
    "wal_unmar.describe()"
   ]
  },
  {
   "cell_type": "code",
   "execution_count": 114,
   "id": "38d5e65f",
   "metadata": {},
   "outputs": [
    {
     "data": {
      "text/plain": [
       "(9213.531378505573, 9308.817769659174)"
      ]
     },
     "execution_count": 114,
     "metadata": {},
     "output_type": "execute_result"
    }
   ],
   "source": [
    "np.mean(wal_mar[\"Purchase\"].sample(30000))\n",
    "sample_mean_mar=[(np.mean(wal_mar[\"Purchase\"].sample(30000))) for i in range(1000)]\n",
    "n=30000\n",
    "st_dev_mar=np.std(wal_mar[\"Purchase\"])\n",
    "std_err_mar=st_dev_mar/np.sqrt(n)\n",
    "#for 90% confidence interval\n",
    "mean_mar=np.mean(wal_mar[\"Purchase\"])\n",
    "z=norm.ppf(0.95)\n",
    "x1=mean_mar-z*std_err_mar\n",
    "x2=mean_mar+z*std_err_mar\n",
    "x1,x2"
   ]
  },
  {
   "cell_type": "code",
   "execution_count": 115,
   "id": "3894afb9",
   "metadata": {},
   "outputs": [
    {
     "data": {
      "text/plain": [
       "(9218.165147449665, 9313.650090393348)"
      ]
     },
     "execution_count": 115,
     "metadata": {},
     "output_type": "execute_result"
    }
   ],
   "source": [
    "np.mean(wal_unmar[\"Purchase\"].sample(30000))\n",
    "sample_mean_unmar=[(np.mean(wal_unmar[\"Purchase\"].sample(30000))) for i in range(1000)]\n",
    "n=30000\n",
    "st_dev_unmar=np.std(wal_unmar[\"Purchase\"])\n",
    "std_err_unmar=st_dev_unmar/np.sqrt(n)\n",
    "mean_unmar=np.mean(wal_unmar[\"Purchase\"])\n",
    "#for 90% confidence interval\n",
    "z=norm.ppf(0.95)\n",
    "x1=mean_unmar-z*std_err_unmar\n",
    "x2=mean_unmar+z*std_err_unmar\n",
    "x1,x2\n"
   ]
  },
  {
   "cell_type": "code",
   "execution_count": 116,
   "id": "3dcbdd92",
   "metadata": {
    "scrolled": true
   },
   "outputs": [
    {
     "data": {
      "text/plain": [
       "(9204.404205030149, 9317.944943134598)"
      ]
     },
     "execution_count": 116,
     "metadata": {},
     "output_type": "execute_result"
    }
   ],
   "source": [
    "np.mean(wal_mar[\"Purchase\"].sample(30000))\n",
    "sample_mean_mar=[(np.mean(wal_mar[\"Purchase\"].sample(30000))) for i in range(1000)]\n",
    "n=30000\n",
    "st_dev_mar=np.std(wal_mar[\"Purchase\"])\n",
    "std_err_mar=st_dev_mar/np.sqrt(n)\n",
    "#for 95% confidence interval\n",
    "mean_mar=np.mean(wal_mar[\"Purchase\"])\n",
    "z=norm.ppf(0.975)\n",
    "x1=mean_mar-z*std_err_mar\n",
    "x2=mean_mar+z*std_err_mar\n",
    "x1,x2"
   ]
  },
  {
   "cell_type": "code",
   "execution_count": 117,
   "id": "b34f3b51",
   "metadata": {},
   "outputs": [
    {
     "data": {
      "text/plain": [
       "(9209.018955344087, 9322.796282498926)"
      ]
     },
     "execution_count": 117,
     "metadata": {},
     "output_type": "execute_result"
    }
   ],
   "source": [
    "np.mean(wal_unmar[\"Purchase\"].sample(30000))\n",
    "sample_mean_unmar=[(np.mean(wal_unmar[\"Purchase\"].sample(30000))) for i in range(1000)]\n",
    "n=30000\n",
    "st_dev_unmar=np.std(wal_unmar[\"Purchase\"])\n",
    "std_err_unmar=st_dev_unmar/np.sqrt(n)\n",
    "mean_unmar=np.mean(wal_unmar[\"Purchase\"])\n",
    "#for 95% confidence interval\n",
    "z=norm.ppf(0.975)\n",
    "x1=mean_unmar-z*std_err_unmar\n",
    "x2=mean_unmar+z*std_err_unmar\n",
    "x1,x2\n"
   ]
  },
  {
   "cell_type": "code",
   "execution_count": 119,
   "id": "b9ff906a",
   "metadata": {},
   "outputs": [
    {
     "data": {
      "text/plain": [
       "(9186.565662218964, 9335.783485945783)"
      ]
     },
     "execution_count": 119,
     "metadata": {},
     "output_type": "execute_result"
    }
   ],
   "source": [
    "np.mean(wal_mar[\"Purchase\"].sample(30000))\n",
    "sample_mean_mar=[(np.mean(wal_mar[\"Purchase\"].sample(30000))) for i in range(1000)]\n",
    "n=30000\n",
    "st_dev_mar=np.std(wal_mar[\"Purchase\"])\n",
    "std_err_mar=st_dev_mar/np.sqrt(n)\n",
    "#for 99% confidence interval\n",
    "mean_mar=np.mean(wal_mar[\"Purchase\"])\n",
    "z=norm.ppf(0.995)\n",
    "x1=mean_mar-z*std_err_mar\n",
    "x2=mean_mar+z*std_err_mar\n",
    "x1,x2"
   ]
  },
  {
   "cell_type": "code",
   "execution_count": 120,
   "id": "22c24e57",
   "metadata": {},
   "outputs": [
    {
     "data": {
      "text/plain": [
       "(9191.143241699116, 9340.671996143898)"
      ]
     },
     "execution_count": 120,
     "metadata": {},
     "output_type": "execute_result"
    }
   ],
   "source": [
    "np.mean(wal_unmar[\"Purchase\"].sample(30000))\n",
    "sample_mean_unmar=[(np.mean(wal_unmar[\"Purchase\"].sample(30000))) for i in range(1000)]\n",
    "n=30000\n",
    "st_dev_unmar=np.std(wal_unmar[\"Purchase\"])\n",
    "std_err_unmar=st_dev_unmar/np.sqrt(n)\n",
    "mean_unmar=np.mean(wal_unmar[\"Purchase\"])\n",
    "#for 99% confidence interval\n",
    "z=norm.ppf(0.995)\n",
    "x1=mean_unmar-z*std_err_unmar\n",
    "x2=mean_unmar+z*std_err_unmar\n",
    "x1,x2"
   ]
  },
  {
   "cell_type": "code",
   "execution_count": null,
   "id": "c8341ac3",
   "metadata": {},
   "outputs": [],
   "source": [
    "# Analysis for age\n"
   ]
  },
  {
   "cell_type": "code",
   "execution_count": 162,
   "id": "faa136ff",
   "metadata": {},
   "outputs": [],
   "source": [
    "age0_17=wal[wal[\"Age\"]==\"0-17\"]\n",
    "age18_25=wal[wal[\"Age\"]==\"18-25\"]\n",
    "age26_35=wal[wal[\"Age\"]==\"26-35\"]\n",
    "age36_50=pd.concat([wal[wal[\"Age\"]==\"36-45\"] , wal[wal[\"Age\"]==\"46-50\" ]])\n",
    "age50plus=pd.concat([wal[wal[\"Age\"]==\"51-55\"] , wal[wal[\"Age\"]==\"55+\" ]])"
   ]
  },
  {
   "cell_type": "code",
   "execution_count": 154,
   "id": "1d0e9de5",
   "metadata": {},
   "outputs": [],
   "source": [
    "#90% confidence interval analysis"
   ]
  },
  {
   "cell_type": "code",
   "execution_count": 155,
   "id": "1d3e85d5",
   "metadata": {},
   "outputs": [
    {
     "data": {
      "text/plain": [
       "(8779.978974850774, 9086.950306039174)"
      ]
     },
     "execution_count": 155,
     "metadata": {},
     "output_type": "execute_result"
    }
   ],
   "source": [
    "np.mean(age0_17[\"Purchase\"].sample(3000))\n",
    "sample_mean_age0_17=[(np.mean(age0_17[\"Purchase\"].sample(3000))) for i in range(1000)]\n",
    "n=3000\n",
    "st_dev_age0_17=np.std(age0_17[\"Purchase\"])\n",
    "std_err_age0_17=st_dev_age0_17/np.sqrt(n)\n",
    "mean_age0_17=np.mean(age0_17[\"Purchase\"])\n",
    "#for 90% confidence interval\n",
    "z=norm.ppf(0.95)\n",
    "x1=mean_age0_17-z*std_err_age0_17\n",
    "x2=mean_age0_17+z*std_err_age0_17\n",
    "x1,x2\n",
    "\n"
   ]
  },
  {
   "cell_type": "code",
   "execution_count": 156,
   "id": "b8460247",
   "metadata": {},
   "outputs": [
    {
     "data": {
      "text/plain": [
       "(99660, 10)"
      ]
     },
     "execution_count": 156,
     "metadata": {},
     "output_type": "execute_result"
    }
   ],
   "source": [
    "age18_25.shape"
   ]
  },
  {
   "cell_type": "code",
   "execution_count": 157,
   "id": "55c48a4f",
   "metadata": {},
   "outputs": [
    {
     "data": {
      "text/plain": [
       "(9018.47974249923, 9320.847470023347)"
      ]
     },
     "execution_count": 157,
     "metadata": {},
     "output_type": "execute_result"
    }
   ],
   "source": [
    "#for age range 18_25\n",
    "np.mean(age18_25[\"Purchase\"].sample(3000))\n",
    "sample_mean_age18_25=[(np.mean(age18_25[\"Purchase\"].sample(3000))) for i in range(1000)]\n",
    "n=3000\n",
    "st_dev_age18_25=np.std(age18_25[\"Purchase\"])\n",
    "std_err_age18_25=st_dev_age18_25/np.sqrt(n)\n",
    "mean_age18_25=np.mean(age18_25[\"Purchase\"])\n",
    "#for 90% confidence interval\n",
    "z=norm.ppf(0.95)\n",
    "x1=mean_age18_25-z*std_err_age18_25\n",
    "x2=mean_age18_25+z*std_err_age18_25\n",
    "x1,x2\n"
   ]
  },
  {
   "cell_type": "code",
   "execution_count": 158,
   "id": "ed14503e",
   "metadata": {},
   "outputs": [
    {
     "data": {
      "text/plain": [
       "(9205.10793376461, 9300.273331975166)"
      ]
     },
     "execution_count": 158,
     "metadata": {},
     "output_type": "execute_result"
    }
   ],
   "source": [
    "#for age range 26_35\n",
    "np.mean(age26_35[\"Purchase\"].sample(30000))\n",
    "sample_mean_age26_35=[(np.mean(age26_35[\"Purchase\"].sample(30000))) for i in range(1000)]\n",
    "n=30000\n",
    "st_dev_age26_35=np.std(age26_35[\"Purchase\"])\n",
    "std_err_age26_35=st_dev_age26_35/np.sqrt(n)\n",
    "mean_age26_35=np.mean(age26_35[\"Purchase\"])\n",
    "#for 90% confidence interval\n",
    "z=norm.ppf(0.95)\n",
    "x1=mean_age26_35-z*std_err_age26_35\n",
    "x2=mean_age26_35+z*std_err_age26_35\n",
    "x1,x2\n"
   ]
  },
  {
   "cell_type": "code",
   "execution_count": 159,
   "id": "b2964359",
   "metadata": {},
   "outputs": [
    {
     "data": {
      "text/plain": [
       "(155714, 10)"
      ]
     },
     "execution_count": 159,
     "metadata": {},
     "output_type": "execute_result"
    }
   ],
   "source": [
    "age36_50.shape"
   ]
  },
  {
   "cell_type": "code",
   "execution_count": 160,
   "id": "efc585cd",
   "metadata": {},
   "outputs": [
    {
     "data": {
      "text/plain": [
       "(9247.78320900821, 9342.880276612863)"
      ]
     },
     "execution_count": 160,
     "metadata": {},
     "output_type": "execute_result"
    }
   ],
   "source": [
    "#for age range 36_50\n",
    "np.mean(age36_50[\"Purchase\"].sample(30000))\n",
    "sample_mean_age36_50=[(np.mean(age36_50[\"Purchase\"].sample(30000))) for i in range(1000)]\n",
    "n=30000\n",
    "st_dev_age36_50=np.std(age36_50[\"Purchase\"])\n",
    "std_err_age36_50=st_dev_age36_50/np.sqrt(n)\n",
    "mean_age36_50=np.mean(age36_50[\"Purchase\"])\n",
    "#for 90% confidence interval\n",
    "z=norm.ppf(0.95)\n",
    "x1=mean_age36_50-z*std_err_age36_50\n",
    "x2=mean_age36_50+z*std_err_age36_50\n",
    "x1,x2\n"
   ]
  },
  {
   "cell_type": "code",
   "execution_count": 163,
   "id": "ec2f093e",
   "metadata": {},
   "outputs": [
    {
     "data": {
      "text/plain": [
       "(9415.598420431128, 9511.724935955841)"
      ]
     },
     "execution_count": 163,
     "metadata": {},
     "output_type": "execute_result"
    }
   ],
   "source": [
    "#for age range 50plus\n",
    "np.mean(age50plus[\"Purchase\"].sample(30000))\n",
    "sample_mean_age50plus=[(np.mean(age50plus[\"Purchase\"].sample(30000))) for i in range(1000)]\n",
    "n=30000\n",
    "st_dev_age50plus=np.std(age50plus[\"Purchase\"])\n",
    "std_err_age50plus=st_dev_age50plus/np.sqrt(n)\n",
    "mean_age50plus=np.mean(age50plus[\"Purchase\"])\n",
    "#for 90% confidence interval\n",
    "z=norm.ppf(0.95)\n",
    "x1=mean_age50plus-z*std_err_age50plus\n",
    "x2=mean_age50plus+z*std_err_age50plus\n",
    "x1,x2\n"
   ]
  },
  {
   "cell_type": "code",
   "execution_count": null,
   "id": "394101cb",
   "metadata": {},
   "outputs": [],
   "source": []
  },
  {
   "cell_type": "code",
   "execution_count": null,
   "id": "b588ef1d",
   "metadata": {},
   "outputs": [],
   "source": [
    "#95% confidence interval analysis"
   ]
  },
  {
   "cell_type": "code",
   "execution_count": 165,
   "id": "7d543638",
   "metadata": {},
   "outputs": [
    {
     "data": {
      "text/plain": [
       "(8750.575189506208, 9116.35409138374)"
      ]
     },
     "execution_count": 165,
     "metadata": {},
     "output_type": "execute_result"
    }
   ],
   "source": [
    "np.mean(age0_17[\"Purchase\"].sample(3000))\n",
    "sample_mean_age0_17=[(np.mean(age0_17[\"Purchase\"].sample(3000))) for i in range(1000)]\n",
    "n=3000\n",
    "st_dev_age0_17=np.std(age0_17[\"Purchase\"])\n",
    "std_err_age0_17=st_dev_age0_17/np.sqrt(n)\n",
    "mean_age0_17=np.mean(age0_17[\"Purchase\"])\n",
    "#for 95% confidence interval\n",
    "z=norm.ppf(0.975)\n",
    "x1=mean_age0_17-z*std_err_age0_17\n",
    "x2=mean_age0_17+z*std_err_age0_17\n",
    "x1,x2\n"
   ]
  },
  {
   "cell_type": "code",
   "execution_count": 166,
   "id": "f880ce70",
   "metadata": {},
   "outputs": [
    {
     "data": {
      "text/plain": [
       "(9112.696222544599, 9226.630989977979)"
      ]
     },
     "execution_count": 166,
     "metadata": {},
     "output_type": "execute_result"
    }
   ],
   "source": [
    "#for age range 18_25\n",
    "np.mean(age18_25[\"Purchase\"].sample(30000))\n",
    "sample_mean_age18_25=[(np.mean(age18_25[\"Purchase\"].sample(30000))) for i in range(1000)]\n",
    "n=30000\n",
    "st_dev_age18_25=np.std(age18_25[\"Purchase\"])\n",
    "std_err_age18_25=st_dev_age18_25/np.sqrt(n)\n",
    "mean_age18_25=np.mean(age18_25[\"Purchase\"])\n",
    "#for 95% confidence interval\n",
    "z=norm.ppf(0.975)\n",
    "x1=mean_age18_25-z*std_err_age18_25\n",
    "x2=mean_age18_25+z*std_err_age18_25\n",
    "x1,x2\n"
   ]
  },
  {
   "cell_type": "code",
   "execution_count": 167,
   "id": "b80f8eda",
   "metadata": {},
   "outputs": [
    {
     "data": {
      "text/plain": [
       "(9195.99234980965, 9309.388915930125)"
      ]
     },
     "execution_count": 167,
     "metadata": {},
     "output_type": "execute_result"
    }
   ],
   "source": [
    "#for age range 26_35\n",
    "np.mean(age26_35[\"Purchase\"].sample(30000))\n",
    "sample_mean_age26_35=[(np.mean(age26_35[\"Purchase\"].sample(30000))) for i in range(1000)]\n",
    "n=30000\n",
    "st_dev_age26_35=np.std(age26_35[\"Purchase\"])\n",
    "std_err_age26_35=st_dev_age26_35/np.sqrt(n)\n",
    "mean_age26_35=np.mean(age26_35[\"Purchase\"])\n",
    "#for 95% confidence interval\n",
    "z=norm.ppf(0.975)\n",
    "x1=mean_age26_35-z*std_err_age26_35\n",
    "x2=mean_age26_35+z*std_err_age26_35\n",
    "x1,x2\n"
   ]
  },
  {
   "cell_type": "code",
   "execution_count": 168,
   "id": "2f570043",
   "metadata": {},
   "outputs": [
    {
     "data": {
      "text/plain": [
       "(9238.674170219734, 9351.989315401339)"
      ]
     },
     "execution_count": 168,
     "metadata": {},
     "output_type": "execute_result"
    }
   ],
   "source": [
    "#for age range 36_50\n",
    "np.mean(age36_50[\"Purchase\"].sample(30000))\n",
    "sample_mean_age36_50=[(np.mean(age36_50[\"Purchase\"].sample(30000))) for i in range(1000)]\n",
    "n=30000\n",
    "st_dev_age36_50=np.std(age36_50[\"Purchase\"])\n",
    "std_err_age36_50=st_dev_age36_50/np.sqrt(n)\n",
    "mean_age36_50=np.mean(age36_50[\"Purchase\"])\n",
    "#for 95% confidence interval\n",
    "z=norm.ppf(0.975)\n",
    "x1=mean_age36_50-z*std_err_age36_50\n",
    "x2=mean_age36_50+z*std_err_age36_50\n",
    "x1,x2\n"
   ]
  },
  {
   "cell_type": "code",
   "execution_count": 169,
   "id": "2557bed7",
   "metadata": {},
   "outputs": [
    {
     "data": {
      "text/plain": [
       "(9406.390774174824, 9520.932582212145)"
      ]
     },
     "execution_count": 169,
     "metadata": {},
     "output_type": "execute_result"
    }
   ],
   "source": [
    "#for age range 50plus\n",
    "np.mean(age50plus[\"Purchase\"].sample(30000))\n",
    "sample_mean_age50plus=[(np.mean(age50plus[\"Purchase\"].sample(30000))) for i in range(1000)]\n",
    "n=30000\n",
    "st_dev_age50plus=np.std(age50plus[\"Purchase\"])\n",
    "std_err_age50plus=st_dev_age50plus/np.sqrt(n)\n",
    "mean_age50plus=np.mean(age50plus[\"Purchase\"])\n",
    "#for 95% confidence interval\n",
    "z=norm.ppf(0.975)\n",
    "x1=mean_age50plus-z*std_err_age50plus\n",
    "x2=mean_age50plus+z*std_err_age50plus\n",
    "x1,x2\n"
   ]
  },
  {
   "cell_type": "code",
   "execution_count": null,
   "id": "2c7190a7",
   "metadata": {},
   "outputs": [],
   "source": []
  },
  {
   "cell_type": "code",
   "execution_count": 170,
   "id": "b80c47a3",
   "metadata": {},
   "outputs": [],
   "source": [
    "#99% confidence interval analysis"
   ]
  },
  {
   "cell_type": "code",
   "execution_count": 172,
   "id": "d11df889",
   "metadata": {},
   "outputs": [
    {
     "data": {
      "text/plain": [
       "(8693.107159004521, 9173.822121885427)"
      ]
     },
     "execution_count": 172,
     "metadata": {},
     "output_type": "execute_result"
    }
   ],
   "source": [
    "np.mean(age0_17[\"Purchase\"].sample(3000))\n",
    "sample_mean_age0_17=[(np.mean(age0_17[\"Purchase\"].sample(3000))) for i in range(1000)]\n",
    "n=3000\n",
    "st_dev_age0_17=np.std(age0_17[\"Purchase\"])\n",
    "std_err_age0_17=st_dev_age0_17/np.sqrt(n)\n",
    "mean_age0_17=np.mean(age0_17[\"Purchase\"])\n",
    "#for 99% confidence interval\n",
    "z=norm.ppf(0.995)\n",
    "x1=mean_age0_17-z*std_err_age0_17\n",
    "x2=mean_age0_17+z*std_err_age0_17\n",
    "x1,x2\n"
   ]
  },
  {
   "cell_type": "code",
   "execution_count": 173,
   "id": "871438e3",
   "metadata": {},
   "outputs": [
    {
     "data": {
      "text/plain": [
       "(9094.795773239142, 9244.531439283435)"
      ]
     },
     "execution_count": 173,
     "metadata": {},
     "output_type": "execute_result"
    }
   ],
   "source": [
    "#for age range 18_25\n",
    "np.mean(age18_25[\"Purchase\"].sample(30000))\n",
    "sample_mean_age18_25=[(np.mean(age18_25[\"Purchase\"].sample(30000))) for i in range(1000)]\n",
    "n=30000\n",
    "st_dev_age18_25=np.std(age18_25[\"Purchase\"])\n",
    "std_err_age18_25=st_dev_age18_25/np.sqrt(n)\n",
    "mean_age18_25=np.mean(age18_25[\"Purchase\"])\n",
    "#for 99% confidence interval\n",
    "z=norm.ppf(0.995)\n",
    "x1=mean_age18_25-z*std_err_age18_25\n",
    "x2=mean_age18_25+z*std_err_age18_25\n",
    "x1,x2\n"
   ]
  },
  {
   "cell_type": "code",
   "execution_count": 174,
   "id": "deb56e50",
   "metadata": {},
   "outputs": [
    {
     "data": {
      "text/plain": [
       "(9178.176458058791, 9327.204807680984)"
      ]
     },
     "execution_count": 174,
     "metadata": {},
     "output_type": "execute_result"
    }
   ],
   "source": [
    "#for age range 26_35\n",
    "np.mean(age26_35[\"Purchase\"].sample(30000))\n",
    "sample_mean_age26_35=[(np.mean(age26_35[\"Purchase\"].sample(30000))) for i in range(1000)]\n",
    "n=30000\n",
    "st_dev_age26_35=np.std(age26_35[\"Purchase\"])\n",
    "std_err_age26_35=st_dev_age26_35/np.sqrt(n)\n",
    "mean_age26_35=np.mean(age26_35[\"Purchase\"])\n",
    "#for 99% confidence interval\n",
    "z=norm.ppf(0.995)\n",
    "x1=mean_age26_35-z*std_err_age26_35\n",
    "x2=mean_age26_35+z*std_err_age26_35\n",
    "x1,x2\n"
   ]
  },
  {
   "cell_type": "code",
   "execution_count": 175,
   "id": "bef5efd3",
   "metadata": {},
   "outputs": [
    {
     "data": {
      "text/plain": [
       "(9220.87107062549, 9369.792414995583)"
      ]
     },
     "execution_count": 175,
     "metadata": {},
     "output_type": "execute_result"
    }
   ],
   "source": [
    "#for age range 36_50\n",
    "np.mean(age36_50[\"Purchase\"].sample(30000))\n",
    "sample_mean_age36_50=[(np.mean(age36_50[\"Purchase\"].sample(30000))) for i in range(1000)]\n",
    "n=30000\n",
    "st_dev_age36_50=np.std(age36_50[\"Purchase\"])\n",
    "std_err_age36_50=st_dev_age36_50/np.sqrt(n)\n",
    "mean_age36_50=np.mean(age36_50[\"Purchase\"])\n",
    "#for 99% confidence interval\n",
    "z=norm.ppf(0.995)\n",
    "x1=mean_age36_50-z*std_err_age36_50\n",
    "x2=mean_age36_50+z*std_err_age36_50\n",
    "x1,x2\n"
   ]
  },
  {
   "cell_type": "code",
   "execution_count": 176,
   "id": "dd5d7ee5",
   "metadata": {},
   "outputs": [
    {
     "data": {
      "text/plain": [
       "(9388.394951878296, 9538.928404508673)"
      ]
     },
     "execution_count": 176,
     "metadata": {},
     "output_type": "execute_result"
    }
   ],
   "source": [
    "#for age range 50plus\n",
    "np.mean(age50plus[\"Purchase\"].sample(30000))\n",
    "sample_mean_age50plus=[(np.mean(age50plus[\"Purchase\"].sample(30000))) for i in range(1000)]\n",
    "n=30000\n",
    "st_dev_age50plus=np.std(age50plus[\"Purchase\"])\n",
    "std_err_age50plus=st_dev_age50plus/np.sqrt(n)\n",
    "mean_age50plus=np.mean(age50plus[\"Purchase\"])\n",
    "#for 99% confidence interval\n",
    "z=norm.ppf(0.995)\n",
    "x1=mean_age50plus-z*std_err_age50plus\n",
    "x2=mean_age50plus+z*std_err_age50plus\n",
    "x1,x2\n"
   ]
  },
  {
   "cell_type": "code",
   "execution_count": null,
   "id": "7479e4b8",
   "metadata": {},
   "outputs": [],
   "source": []
  }
 ],
 "metadata": {
  "kernelspec": {
   "display_name": "Python 3 (ipykernel)",
   "language": "python",
   "name": "python3"
  },
  "language_info": {
   "codemirror_mode": {
    "name": "ipython",
    "version": 3
   },
   "file_extension": ".py",
   "mimetype": "text/x-python",
   "name": "python",
   "nbconvert_exporter": "python",
   "pygments_lexer": "ipython3",
   "version": "3.9.12"
  }
 },
 "nbformat": 4,
 "nbformat_minor": 5
}
